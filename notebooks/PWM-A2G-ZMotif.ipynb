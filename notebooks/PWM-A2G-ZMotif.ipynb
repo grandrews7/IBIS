{
 "cells": [
  {
   "cell_type": "code",
   "execution_count": 1,
   "id": "497c6f76-4065-4460-99c3-449d6f7a76e8",
   "metadata": {
    "execution": {
     "iopub.execute_input": "2024-10-01T11:04:05.489228Z",
     "iopub.status.busy": "2024-10-01T11:04:05.489005Z",
     "iopub.status.idle": "2024-10-01T11:04:15.542691Z",
     "shell.execute_reply": "2024-10-01T11:04:15.541796Z",
     "shell.execute_reply.started": "2024-10-01T11:04:05.489200Z"
    }
   },
   "outputs": [],
   "source": [
    "import tensorflow as tf\n",
    "tf.__version__\n",
    "tf.compat.v1.disable_eager_execution()\n",
    "\n",
    "import numpy as np\n",
    "from tensorflow.keras import initializers\n",
    "from tensorflow.keras.layers import Input, Lambda, Conv1D, maximum, GlobalMaxPooling1D, Dense, GaussianNoise, MaxPooling1D, Flatten, BatchNormalization\n",
    "from tensorflow.keras import regularizers\n",
    "from tensorflow.keras.constraints import non_neg\n",
    "from tensorflow.keras.models import Model\n",
    "from tensorflow.keras import backend as K\n",
    "\n",
    "import matplotlib.pyplot as plt\n",
    "import pandas as pd\n",
    "import logomaker\n",
    "\n",
    "import random\n",
    "from tqdm import trange\n",
    "from subprocess import Popen, PIPE, run\n",
    "import sys\n",
    "import pickle\n",
    "from pyfaidx import Fasta\n",
    "from  tensorflow.keras.callbacks import Callback\n",
    "from tensorflow.keras.utils import Sequence\n",
    "import random\n",
    "import glob\n",
    "import bioframe\n",
    "import os\n",
    "import tempfile\n",
    "from collections import Counter\n",
    "from sklearn.utils import shuffle\n",
    "import gzip\n",
    "import tqdm\n",
    "import sys\n",
    "import argparse"
   ]
  },
  {
   "cell_type": "code",
   "execution_count": 2,
   "id": "dce66087-fa31-4836-a096-54d3753e5a74",
   "metadata": {
    "execution": {
     "iopub.execute_input": "2024-10-01T11:04:16.266007Z",
     "iopub.status.busy": "2024-10-01T11:04:16.265772Z",
     "iopub.status.idle": "2024-10-01T11:04:16.284772Z",
     "shell.execute_reply": "2024-10-01T11:04:16.284193Z",
     "shell.execute_reply.started": "2024-10-01T11:04:16.265976Z"
    }
   },
   "outputs": [
    {
     "name": "stdout",
     "output_type": "stream",
     "text": [
      "WARNING:tensorflow:From /usr/local/lib/python3.6/site-packages/tensorflow_core/python/keras/initializers.py:143: calling RandomNormal.__init__ (from tensorflow.python.ops.init_ops) with dtype is deprecated and will be removed in a future version.\n",
      "Instructions for updating:\n",
      "Call initializer instance with the dtype argument instead of passing it to the constructor\n"
     ]
    }
   ],
   "source": [
    "#Models\n",
    "def construct_model(num_kernels=32,\n",
    "                    kernel_width=24,\n",
    "                    seq_len=None,\n",
    "                    dropout_prop=0.0,\n",
    "                    use_bias=False,\n",
    "                    kernel_initializer=initializers.RandomNormal(stddev=0.0001, seed=12),\n",
    "                    optimizer='adam',\n",
    "                    activation='linear',\n",
    "                    num_classes=1,\n",
    "                    l1_reg=0.0,\n",
    "                    l2_reg= 0.0,\n",
    "                    gaussian_noise = 0.1,\n",
    "                    spatial_dropout = 0.0,\n",
    "                    rc = True,\n",
    "                    padding=\"same\",\n",
    "                    conv_name=\"shared_conv\"):\n",
    "    if rc:\n",
    "        seq_input = Input(shape=(seq_len,4))\n",
    "        rc_op = Lambda(lambda x: K.reverse(x,axes=(1,2)))\n",
    "        seq_rc = rc_op(seq_input)\n",
    "        if gaussian_noise > 0.0:\n",
    "            noisy_seq = GaussianNoise(gaussian_noise)(seq_input)\n",
    "            noisy_seq_rc = rc_op(noisy_seq)\n",
    "        \n",
    "        shared_conv = Conv1D(num_kernels, kernel_width,\n",
    "                             strides=1,\n",
    "                             padding=padding, \n",
    "                             activation=activation,\n",
    "                             use_bias=use_bias,\n",
    "                             kernel_initializer=kernel_initializer,\n",
    "                             kernel_regularizer=regularizers.l1_l2(l1=l1_reg,\n",
    "                                                                   l2=l2_reg),\n",
    "                             bias_initializer='zeros',\n",
    "                             name=conv_name)\n",
    "\n",
    "        if gaussian_noise > 0:\n",
    "            conv_for = shared_conv(noisy_seq)\n",
    "            conv_rc = shared_conv(noisy_seq_rc)\n",
    "        else:\n",
    "            conv_for = shared_conv(seq_input)\n",
    "            conv_rc = shared_conv(seq_rc)\n",
    "            \n",
    "\n",
    "        merged = maximum([conv_for, conv_rc])\n",
    "        pooled = GlobalMaxPooling1D()(merged)\n",
    "        if dropout_prop > 0.0:\n",
    "            dropout = Dropout(dropout_prop)(pooled)\n",
    "            output = Dense(1, activation='sigmoid',\n",
    "                       use_bias=True,\n",
    "                       kernel_initializer=initializers.RandomUniform(minval=0.0, maxval=0.001, seed=12), \n",
    "                       kernel_constraint=non_neg(), \n",
    "                       bias_initializer='zeros',\n",
    "                       name=\"dense_1\")(dropout)\n",
    "        else:\n",
    "            output = Dense(1, activation='sigmoid',\n",
    "                           use_bias=True,\n",
    "                           kernel_initializer=initializers.RandomUniform(minval=0.0, maxval=0.001, seed=12), \n",
    "                           kernel_constraint=non_neg(), \n",
    "                           bias_initializer='zeros',\n",
    "                           name=\"dense_1\")(pooled)\n",
    "        model = Model(inputs=seq_input, outputs=output)\n",
    "        model.compile(optimizer='adam', loss='binary_crossentropy', metrics=['accuracy'])\n",
    "        model.summary()\n",
    "        return model\n",
    "\n",
    "\n",
    "\n",
    "def construct_scan_model(conv_weights):\n",
    "    kernel_width = conv_weights.shape[0]\n",
    "    num_kernels = conv_weights.shape[2]\n",
    "    seq = Input(shape=(None,4))\n",
    "    conv = Conv1D(num_kernels, kernel_width, \n",
    "                  name = 'scan_conv',\n",
    "                  strides=1, \n",
    "                  padding='valid', \n",
    "                  activation='linear', \n",
    "                  use_bias=False, \n",
    "                  kernel_initializer='zeros', \n",
    "                  bias_initializer='zeros',\n",
    "                  trainable=False)\n",
    "    \n",
    "    conv_seq = conv(seq)\n",
    "    \n",
    "    \n",
    "    model = Model(inputs=seq, outputs=conv_seq)\n",
    "    model.compile(optimizer='adam', loss='binary_crossentropy', metrics=['accuracy'])\n",
    "    model.get_layer('scan_conv').set_weights([conv_weights])\n",
    "    return model\n",
    "\n",
    "\n",
    "def construct_score_model(conv_weights):\n",
    "    kernel_width = conv_weights.shape[0]\n",
    "    num_kernels = conv_weights.shape[2]\n",
    "    seq = Input(shape=(None,4))\n",
    "    rc_op = Lambda(lambda x: K.reverse(x,axes=(1,2)))\n",
    "    seq_rc = rc_op(seq)\n",
    "    \n",
    "    conv = Conv1D(num_kernels, kernel_width, \n",
    "                  name = 'score_conv',\n",
    "                  strides=1, \n",
    "                  padding='valid', \n",
    "                  activation='linear', \n",
    "                  use_bias=use_bias, \n",
    "                  kernel_initializer='zeros', \n",
    "                  bias_initializer='zeros',\n",
    "                  trainable=False)\n",
    "    \n",
    "    conv_for = conv(seq)\n",
    "    conv_rc = conv(seq_rc)\n",
    "    \n",
    "    merged = maximum([conv_for, conv_rc])\n",
    "    pooled = GlobalMaxPooling1D()(merged)\n",
    "    model = Model(inputs=seq, outputs=pooled)\n",
    "    model.compile(optimizer='adam', loss='binary_crossentropy', metrics=['accuracy'])\n",
    "    model.get_layer(\"score_conv\").set_weights([conv_weights])\n",
    "    print(model.summary())\n",
    "    return model"
   ]
  },
  {
   "cell_type": "code",
   "execution_count": 3,
   "id": "d2a24514-8408-4aa0-b633-2f761a277a25",
   "metadata": {
    "execution": {
     "iopub.execute_input": "2024-10-01T11:04:27.560628Z",
     "iopub.status.busy": "2024-10-01T11:04:27.560432Z",
     "iopub.status.idle": "2024-10-01T11:04:27.579835Z",
     "shell.execute_reply": "2024-10-01T11:04:27.579301Z",
     "shell.execute_reply.started": "2024-10-01T11:04:27.560603Z"
    }
   },
   "outputs": [],
   "source": [
    "# P. Clote, Oct 2003\n",
    "\n",
    "def computeCountAndLists(s):\n",
    "\n",
    "    #Initialize lists and mono- and dinucleotide dictionaries\n",
    "    List = {} #List is a dictionary of lists\n",
    "    List['A'] = []; List['C'] = [];\n",
    "    List['G'] = []; List['T'] = [];\n",
    "    # FIXME: is this ok?\n",
    "    List['N'] = []\n",
    "    nuclList   = [\"A\",\"C\",\"G\",\"T\",\"N\"]\n",
    "    s       = s.upper()\n",
    "    #s       = s.replace(\"U\",\"T\")\n",
    "    nuclCnt    = {}  #empty dictionary\n",
    "    dinuclCnt  = {}  #empty dictionary\n",
    "    for x in nuclList:\n",
    "        nuclCnt[x]=0\n",
    "        dinuclCnt[x]={}\n",
    "        for y in nuclList:\n",
    "            dinuclCnt[x][y]=0\n",
    "\n",
    "    #Compute count and lists\n",
    "    nuclCnt[s[0]] = 1\n",
    "    nuclTotal     = 1\n",
    "    dinuclTotal   = 0\n",
    "    for i in range(len(s)-1):\n",
    "        x = s[i]; y = s[i+1]\n",
    "        List[x].append( y )\n",
    "        nuclCnt[y] += 1; nuclTotal  += 1\n",
    "        dinuclCnt[x][y] += 1; dinuclTotal += 1\n",
    "    assert (nuclTotal==len(s))\n",
    "    assert (dinuclTotal==len(s)-1)\n",
    "    return nuclCnt,dinuclCnt,List\n",
    "\n",
    "\n",
    "def chooseEdge(x,dinuclCnt):\n",
    "    z = random.random()\n",
    "    denom=dinuclCnt[x]['A']+dinuclCnt[x]['C']+dinuclCnt[x]['G']+dinuclCnt[x]['T']+dinuclCnt[x]['N']\n",
    "    numerator = dinuclCnt[x]['A']\n",
    "    if z < float(numerator)/float(denom):\n",
    "        dinuclCnt[x]['A'] -= 1\n",
    "        return 'A'\n",
    "    numerator += dinuclCnt[x]['C']\n",
    "    if z < float(numerator)/float(denom):\n",
    "        dinuclCnt[x]['C'] -= 1\n",
    "        return 'C'\n",
    "    numerator += dinuclCnt[x]['G']\n",
    "    if z < float(numerator)/float(denom):\n",
    "        dinuclCnt[x]['G'] -= 1\n",
    "        return 'G'\n",
    "    numerator += dinuclCnt[x]['T']\n",
    "    if z < float(numerator)/float(denom):\n",
    "        dinuclCnt[x]['T'] -= 1\n",
    "        return 'T'\n",
    "    dinuclCnt[x]['N'] -= 1\n",
    "    return 'N'\n",
    "\n",
    "def connectedToLast(edgeList,nuclList,lastCh):\n",
    "    D = {}\n",
    "    for x in nuclList: D[x]=0\n",
    "    for edge in edgeList:\n",
    "        a = edge[0]; b = edge[1]\n",
    "        if b==lastCh: D[a]=1\n",
    "    for i in range(3):\n",
    "        for edge in edgeList:\n",
    "            a = edge[0]; b = edge[1]\n",
    "            if D[b]==1: D[a]=1\n",
    "    ok = 0\n",
    "    for x in nuclList:\n",
    "        if x!=lastCh and D[x]==0: return 0\n",
    "    return 1\n",
    "\n",
    "def eulerian(s):\n",
    "    nuclCnt,dinuclCnt,List = computeCountAndLists(s)\n",
    "    #compute nucleotides appearing in s\n",
    "    nuclList = []\n",
    "    for x in [\"A\",\"C\",\"G\",\"T\",\"N\"]:\n",
    "        if x in s: nuclList.append(x)\n",
    "    #create dinucleotide shuffle L\n",
    "    firstCh = s[0]  #start with first letter of s\n",
    "    lastCh  = s[-1]\n",
    "    edgeList = []\n",
    "    for x in nuclList:\n",
    "        if x!= lastCh: edgeList.append( [x,chooseEdge(x,dinuclCnt)] )\n",
    "    ok = connectedToLast(edgeList,nuclList,lastCh)\n",
    "    return ok,edgeList,nuclList,lastCh\n",
    "\n",
    "\n",
    "def shuffleEdgeList(L):\n",
    "    n = len(L); barrier = n\n",
    "    for i in range(n-1):\n",
    "        z = int(random.random() * barrier)\n",
    "        tmp = L[z]\n",
    "        L[z]= L[barrier-1]\n",
    "        L[barrier-1] = tmp\n",
    "        barrier -= 1\n",
    "    return L\n",
    "\n",
    "def dinuclShuffle(s):\n",
    "    ok = 0\n",
    "    while not ok:\n",
    "        ok,edgeList,nuclList,lastCh = eulerian(s)\n",
    "    nuclCnt,dinuclCnt,List = computeCountAndLists(s)\n",
    "\n",
    "    #remove last edges from each vertex list, shuffle, then add back\n",
    "    #the removed edges at end of vertex lists.\n",
    "    for [x,y] in edgeList: List[x].remove(y)\n",
    "    for x in nuclList: shuffleEdgeList(List[x])\n",
    "    for [x,y] in edgeList: List[x].append(y)\n",
    "\n",
    "    #construct the eulerian path\n",
    "    L = [s[0]]; prevCh = s[0]\n",
    "    for i in range(len(s)-2):\n",
    "        ch = List[prevCh][0]\n",
    "        L.append( ch )\n",
    "        del List[prevCh][0]\n",
    "        prevCh = ch\n",
    "    L.append(s[-1])\n",
    "    #t = string.join(L,\"\")\n",
    "    t = \"\".join(L)\n",
    "    return t"
   ]
  },
  {
   "cell_type": "code",
   "execution_count": 4,
   "id": "566cfc97-5802-4c1b-a51e-799cad8c6b0d",
   "metadata": {
    "execution": {
     "iopub.execute_input": "2024-10-01T11:04:35.492991Z",
     "iopub.status.busy": "2024-10-01T11:04:35.492792Z",
     "iopub.status.idle": "2024-10-01T11:04:35.500071Z",
     "shell.execute_reply": "2024-10-01T11:04:35.499507Z",
     "shell.execute_reply.started": "2024-10-01T11:04:35.492965Z"
    }
   },
   "outputs": [],
   "source": [
    "def get_information_content(x):\n",
    "    ic = x * np.log2((x + .001) / .25)\n",
    "    if ic > 0:\n",
    "        return(ic)\n",
    "    else:\n",
    "        return(0.0)\n",
    "    \n",
    "def get_info_content(ppm):\n",
    "    w = ppm.shape[0]\n",
    "    info = np.zeros(w)\n",
    "    for i in range(w):\n",
    "        for j in range(4):\n",
    "            info[i] += ppm[i,j] * np.log2((ppm[i,j] + .001) / 0.25)\n",
    "    return(info)\n",
    "    \n",
    "def trim_ppm(ppm, min_info=0.0):\n",
    "    info = get_info_content(ppm)\n",
    "    start_index = 0\n",
    "    w = ppm.shape[0]\n",
    "    stop_index = w\n",
    "    for i in range(w):\n",
    "        if info[i] < min_info:\n",
    "            start_index += 1\n",
    "        else:\n",
    "            break\n",
    "\n",
    "    for i in range(w):\n",
    "        if info[w-i-1] < 0.25:\n",
    "            stop_index -= 1\n",
    "        else:\n",
    "            break\n",
    "\n",
    "    if np.max(info) < 0.25:\n",
    "        return(ppm, 0, w)\n",
    "    else:\n",
    "        return(ppm[start_index:stop_index,:], start_index, stop_index)"
   ]
  },
  {
   "cell_type": "code",
   "execution_count": 5,
   "id": "4b1ec541-b340-4148-ab86-95280c9bd2d8",
   "metadata": {
    "execution": {
     "iopub.execute_input": "2024-10-01T11:04:42.152499Z",
     "iopub.status.busy": "2024-10-01T11:04:42.152325Z",
     "iopub.status.idle": "2024-10-01T11:04:42.159423Z",
     "shell.execute_reply": "2024-10-01T11:04:42.158851Z",
     "shell.execute_reply.started": "2024-10-01T11:04:42.152475Z"
    }
   },
   "outputs": [],
   "source": [
    "DNA_SEQ_DICT = {\n",
    "    'A' : [1, 0, 0, 0],\n",
    "    'C' : [0, 1, 0, 0],\n",
    "    'G' : [0, 0, 1, 0],\n",
    "    'T' : [0, 0, 0, 1],\n",
    "}\n",
    "\n",
    "def encode_sequence(seq, N = [0, 0, 0, 0], seq_dict = None, useN = None):\n",
    "    if seq_dict is None:\n",
    "        seq_dict = DNA_SEQ_DICT\n",
    "    if useN == 'uniform':\n",
    "        N = [(1/len(seq_dict)) for _ in seq_dict]\n",
    "    elif useN == 'zeros':\n",
    "        N = [0 for _ in seq_dict]\n",
    "    d = { **seq_dict, 'N' : N }\n",
    "    return np.array([d[nuc] for nuc in list(seq)]).astype('float32')\n",
    " \n",
    "def decode_sequence(encoded_seq, seq_dict = None):\n",
    "    if seq_dict is None:\n",
    "        seq_dict = DNA_SEQ_DICT\n",
    "    seq_list = encoded_seq.astype('int').tolist()\n",
    "    def decode_base(encoded_base):\n",
    "        for letter,onehot in seq_dict.items():\n",
    "            if np.array_equal(encoded_base, onehot):\n",
    "                return letter\n",
    "        return \"N\"\n",
    "    return \"\".join(decode_base(b) for b in encoded_seq.astype('int'))"
   ]
  },
  {
   "cell_type": "code",
   "execution_count": 6,
   "id": "875247d2-9421-43b3-9cca-7f0e09fc7041",
   "metadata": {
    "execution": {
     "iopub.execute_input": "2024-10-01T11:04:55.361397Z",
     "iopub.status.busy": "2024-10-01T11:04:55.361179Z",
     "iopub.status.idle": "2024-10-01T11:04:55.377927Z",
     "shell.execute_reply": "2024-10-01T11:04:55.377350Z",
     "shell.execute_reply.started": "2024-10-01T11:04:55.361372Z"
    }
   },
   "outputs": [],
   "source": [
    "from  tensorflow.keras.callbacks import Callback\n",
    "class SGDRScheduler(Callback):\n",
    "    '''Cosine annealing learning rate scheduler with periodic restarts.\n",
    "\n",
    "    # Usage\n",
    "        ```python\n",
    "            schedule = SGDRScheduler(min_lr=1e-5,\n",
    "                                     max_lr=1e-2,\n",
    "                                     steps_per_epoch=np.ceil(epoch_size/batch_size),\n",
    "                                     lr_decay=0.9,\n",
    "                                     cycle_length=5,\n",
    "                                     mult_factor=1.5)\n",
    "            model.fit(X_train, Y_train, epochs=100, callbacks=[schedule])\n",
    "        ```\n",
    "\n",
    "    # Arguments\n",
    "        min_lr: The lower bound of the learning rate range for the experiment.\n",
    "        max_lr: The upper bound of the learning rate range for the experiment.\n",
    "        steps_per_epoch: Number of mini-batches in the dataset. Calculated as `np.ceil(epoch_size/batch_size)`. \n",
    "        lr_decay: Reduce the max_lr after the completion of each cycle.\n",
    "                  Ex. To reduce the max_lr by 20% after each cycle, set this value to 0.8.\n",
    "        cycle_length: Initial number of epochs in a cycle.\n",
    "        mult_factor: Scale epochs_to_restart after each full cycle completion.\n",
    "\n",
    "    # References\n",
    "        Blog post: jeremyjordan.me/nn-learning-rate\n",
    "        Original paper: http://arxiv.org/abs/1608.03983\n",
    "    '''\n",
    "    def __init__(self,\n",
    "                 min_lr,\n",
    "                 max_lr,\n",
    "                 steps_per_epoch,\n",
    "                 lr_decay=1,\n",
    "                 cycle_length=10,\n",
    "                 mult_factor=2,\n",
    "                 shape=\"cosine\"):\n",
    "\n",
    "        self.min_lr = min_lr\n",
    "        self.max_lr = max_lr\n",
    "        self.lr_decay = lr_decay\n",
    "\n",
    "        self.batch_since_restart = 0\n",
    "        self.next_restart = cycle_length\n",
    "\n",
    "        self.steps_per_epoch = steps_per_epoch\n",
    "\n",
    "        self.cycle_length = cycle_length\n",
    "        self.mult_factor = mult_factor\n",
    "        \n",
    "        self.shape = shape\n",
    "        self.history = {}\n",
    "        self.learning_rates = []\n",
    "\n",
    "    def clr(self):\n",
    "        '''Calculate the learning rate.'''\n",
    "        fraction_to_restart = self.batch_since_restart / (self.steps_per_epoch * self.cycle_length)\n",
    "        #print(fraction_to_restart)\n",
    "        if self.shape == \"cosine\":\n",
    "            lr = self.min_lr + 0.5 * (self.max_lr - self.min_lr) * (1 + np.cos(fraction_to_restart * np.pi))\n",
    "        else:\n",
    "            if fraction_to_restart < 0.5:\n",
    "                lr = fraction_to_restart * (self.max_lr - self.min_lr) / 0.5 + self.min_lr\n",
    "            else:\n",
    "                lr = (1 - fraction_to_restart) * (self.max_lr - self.min_lr) / 0.5 + self.min_lr\n",
    "        self.learning_rates.append(lr)\n",
    "        return lr\n",
    "\n",
    "    def on_train_begin(self, logs={}):\n",
    "        '''Initialize the learning rate to the minimum value at the start of training.'''\n",
    "        logs = logs or {}\n",
    "        if self.shape == \"cosine\":\n",
    "            K.set_value(self.model.optimizer.lr, self.max_lr)\n",
    "        else:\n",
    "            K.set_value(self.model.optimizer.lr, self.min_lr)\n",
    "\n",
    "    def on_batch_end(self, batch, logs={}):\n",
    "        '''Record previous batch statistics and update the learning rate.'''\n",
    "        logs = logs or {}\n",
    "        self.history.setdefault('lr', []).append(K.get_value(self.model.optimizer.lr))\n",
    "        for k, v in logs.items():\n",
    "            self.history.setdefault(k, []).append(v)\n",
    "\n",
    "        self.batch_since_restart += 1\n",
    "        K.set_value(self.model.optimizer.lr, self.clr())\n",
    "\n",
    "    def on_epoch_end(self, epoch, logs={}):\n",
    "        '''Check for end of current cycle, apply restarts when necessary.'''\n",
    "        if epoch + 1 == self.next_restart:\n",
    "            self.batch_since_restart = 0\n",
    "            self.cycle_length = np.ceil(self.cycle_length * self.mult_factor)\n",
    "            self.next_restart += self.cycle_length\n",
    "            self.max_lr *= self.lr_decay\n",
    "            self.best_weights = self.model.get_weights()\n",
    "\n",
    "    def on_train_end(self, logs={}):\n",
    "        '''Set weights to the values from the end of the most recent cycle for best performance.'''\n",
    "        self.model.set_weights(self.best_weights)\n",
    "        \n",
    "class SWA(Callback):\n",
    "\n",
    "    def __init__(self, epochs_to_train, prop = 0.2, interval = 1):\n",
    "        super(SWA, self).__init__()\n",
    "        self.epochs_to_train = epochs_to_train\n",
    "        self.prop = prop\n",
    "        self.interval = interval\n",
    "        self.n_models = 0\n",
    "        self.epoch = 0\n",
    "        \n",
    "    def on_train_begin(self, logs=None):\n",
    "        self.nb_epoch = self.params['epochs']\n",
    "        self.weights = []\n",
    "    def on_epoch_end(self, epoch, logs=None):\n",
    "        self.epoch += 1\n",
    "        if epoch % self.interval == 0:\n",
    "            self.weights.append(self.model.get_weights())\n",
    "            self.n_models += 1\n",
    "        else:\n",
    "            pass\n",
    "\n",
    "    def on_train_end(self, logs=None):\n",
    "        num_models_to_average = int(np.ceil(self.prop * self.epoch))\n",
    "        new_weights = list()\n",
    "        for weights_list_tuple in zip(*self.weights[-num_models_to_average:]): \n",
    "            new_weights.append(\n",
    "                np.array([np.array(w).mean(axis=0) for w in zip(*weights_list_tuple)])\n",
    "            )\n",
    "        self.model.set_weights(new_weights)"
   ]
  },
  {
   "cell_type": "code",
   "execution_count": 7,
   "id": "d6773dd6-0fec-4722-b42a-d0e43d1c4d73",
   "metadata": {
    "execution": {
     "iopub.execute_input": "2024-10-01T11:05:08.769683Z",
     "iopub.status.busy": "2024-10-01T11:05:08.769450Z",
     "iopub.status.idle": "2024-10-01T11:05:08.781490Z",
     "shell.execute_reply": "2024-10-01T11:05:08.780890Z",
     "shell.execute_reply.started": "2024-10-01T11:05:08.769655Z"
    }
   },
   "outputs": [],
   "source": [
    "def get_rc(re):\n",
    "    \"\"\"\n",
    "    Return the reverse complement of a DNA/RNA RE.\n",
    "    \"\"\"\n",
    "    return re.translate(str.maketrans('ACGTURYKMBVDHSWN', 'TGCAAYRMKVBHDSWN'))[::-1]\n",
    "\n",
    "\n",
    "def count_seqs_with_words(seqs, halflength, ming, maxg, alpha, revcomp, desc):\n",
    "    if alpha == 'protein':\n",
    "        ambiguous_character = 'X'\n",
    "    else:\n",
    "        ambiguous_character = 'N'\n",
    "    gapped_kmer_dict = {}  # each key is the gapped k-mer word\n",
    "    for g in trange(ming, maxg + 1, 1, desc=desc):\n",
    "        w = g+2*halflength # length of the word\n",
    "        gap = g * ambiguous_character\n",
    "        for seq in seqs:\n",
    "            slen = len(seq)\n",
    "            for i in range(0, slen-w+1):\n",
    "                word = seq[i : i+w]\n",
    "                # skip word if it contains an ambiguous character\n",
    "                if ambiguous_character in word:\n",
    "                    continue\n",
    "                # convert word to a gapped word. Only the first and last half-length letters are preserved\n",
    "                word = word[0:halflength] + gap + word[-halflength:]\n",
    "                update_gapped_kmer_dict(gapped_kmer_dict, word, revcomp)\n",
    "    return gapped_kmer_dict\n",
    "\n",
    "\n",
    "def update_gapped_kmer_dict(gapped_kmer_dict, word, revcomp):\n",
    "    # use the lower alphabet word for rc\n",
    "    if revcomp:\n",
    "        word = min(word, get_rc(word))\n",
    "    if word in gapped_kmer_dict:  # word has been encountered before, add 1\n",
    "        gapped_kmer_dict[word] += 1\n",
    "    else:  # word has not been encountered before, create new key\n",
    "        gapped_kmer_dict[word] = 1\n",
    "\n",
    "\n",
    "def get_zscores(pos_seq_counts, neg_seq_counts):\n",
    "    zscores_dict = {}\n",
    "    for word in pos_seq_counts:\n",
    "        p = pos_seq_counts[word]\n",
    "        if word in neg_seq_counts:\n",
    "            n = neg_seq_counts[word]\n",
    "        else:\n",
    "            n = 1\n",
    "        zscore = 1.0*(p - n)/np.sqrt(n)\n",
    "        zscores_dict[word] = zscore\n",
    "    return zscores_dict\n",
    "\n",
    "\n",
    "# returns the words in order, from largest to smallest, by z-scores\n",
    "def sorted_zscore_keys(zscores_dict):\n",
    "    sorted_keys = sorted(zscores_dict, key=zscores_dict.__getitem__, reverse=True)\n",
    "    return sorted_keys\n",
    "\n",
    "\n",
    "def find_n_top_words(zscores_dict, num_find):\n",
    "    keys = np.array(list(zscores_dict.keys()))\n",
    "    values = np.array(list(zscores_dict.values()))\n",
    "    ind = np.argpartition(values, -num_find)[-num_find:]\n",
    "    top_words = list(keys[ind])\n",
    "    return top_words\n",
    "\n",
    "\n",
    "def find_enriched_gapped_kmers(pos_seqs, neg_seqs, halflength, ming, maxg, alpha, revcomp, num_find):\n",
    "    pos_seq_counts = count_seqs_with_words(pos_seqs, halflength, ming, maxg, alpha, revcomp,\n",
    "                                           'Searching positive sequences')\n",
    "    neg_seq_counts = count_seqs_with_words(neg_seqs, halflength, ming, maxg, alpha, revcomp,\n",
    "                                           'Searching negative sequences')\n",
    "    zscores = get_zscores(pos_seq_counts,neg_seq_counts)\n",
    "    top_words = find_n_top_words(zscores, num_find)\n",
    "    return top_words"
   ]
  },
  {
   "cell_type": "code",
   "execution_count": 8,
   "id": "351a4b1f-8407-4c42-a324-d35870141e56",
   "metadata": {
    "execution": {
     "iopub.execute_input": "2024-10-01T11:05:15.027020Z",
     "iopub.status.busy": "2024-10-01T11:05:15.026822Z",
     "iopub.status.idle": "2024-10-01T11:05:15.030274Z",
     "shell.execute_reply": "2024-10-01T11:05:15.029725Z",
     "shell.execute_reply.started": "2024-10-01T11:05:15.026992Z"
    }
   },
   "outputs": [],
   "source": [
    "def ppm_to_pwm(ppm):\n",
    "    pwm = ppm + 1e-5\n",
    "    pwm = pwm / 0.25\n",
    "    pwm = np.log2(pwm)\n",
    "    return(pwm)"
   ]
  },
  {
   "cell_type": "code",
   "execution_count": 9,
   "id": "d1fbce72-7ce3-4f49-9208-a9bc12eb2ee8",
   "metadata": {
    "execution": {
     "iopub.execute_input": "2024-10-01T11:05:23.251120Z",
     "iopub.status.busy": "2024-10-01T11:05:23.250924Z",
     "iopub.status.idle": "2024-10-01T11:05:23.258831Z",
     "shell.execute_reply": "2024-10-01T11:05:23.258260Z",
     "shell.execute_reply.started": "2024-10-01T11:05:23.251095Z"
    }
   },
   "outputs": [],
   "source": [
    "class dataGen(Sequence):\n",
    "    def __init__(self, posSeqs, \n",
    "                 negSeqs=None,\n",
    "                 batchSize = 32,\n",
    "                 seqsPerEpoch=20000,\n",
    "                 padBy = 24):\n",
    "        \n",
    "        self.posSeqs = posSeqs\n",
    "        self.L = np.max([len(x) for x in self.posSeqs])\n",
    "        print(\"Maximum sequence length = {}\".format(self.L))\n",
    "        \n",
    "        self.batchSize = batchSize\n",
    "        self.b2 = self.batchSize // 2\n",
    "        self.seqsPerEpoch = seqsPerEpoch\n",
    "        self.padBy = padBy\n",
    "        \n",
    "        self.labels = np.array([1 for i in range(self.b2)] + [0 for i in range(self.b2)])\n",
    "        \n",
    "    def __len__(self):\n",
    "        return(int(np.floor(self.seqsPerEpoch / self.batchSize)))\n",
    "\n",
    "    \n",
    "    def __getitem__(self, index):\n",
    "        posSample = random.sample(self.posSeqs, self.b2)\n",
    "        negSample = [dinuclShuffle(_) for _ in posSample]\n",
    "            \n",
    "        X = 0.25 * np.ones((self.batchSize, 2*self.padBy + self.L, 4))\n",
    "            \n",
    "        for i,seq in enumerate(posSample + negSample):\n",
    "            l = len(seq)\n",
    "            start = self.padBy + (self.L - l) // 2\n",
    "            stop = start + l\n",
    "            X[i,start:stop,:] = encode_sequence(seq)\n",
    "            \n",
    "        return(X, self.labels)"
   ]
  },
  {
   "cell_type": "code",
   "execution_count": 19,
   "id": "b7da04e2-9e40-47a7-8695-7d0a3605505a",
   "metadata": {
    "execution": {
     "iopub.execute_input": "2024-10-01T11:08:56.293761Z",
     "iopub.status.busy": "2024-10-01T11:08:56.293540Z",
     "iopub.status.idle": "2024-10-01T11:08:56.299351Z",
     "shell.execute_reply": "2024-10-01T11:08:56.298573Z",
     "shell.execute_reply.started": "2024-10-01T11:08:56.293735Z"
    },
    "tags": []
   },
   "outputs": [
    {
     "name": "stdout",
     "output_type": "stream",
     "text": [
      "FASTQ files:\n",
      " ../data//HTS/NFKB1/NFKB1_R0_C4_lf5ACGACGCTCTTCCGATCTAC_rf3GCTGCTAGATCGGAAGAGCA.fastq.gz\n"
     ]
    }
   ],
   "source": [
    "TF = \"NFKB1\"\n",
    "cycle = \"C4\"\n",
    "output_dir = \"../demo/\"\n",
    "data_dir = \"../data/\"\n",
    "data_dir = \"{}/HTS/{}/\".format(data_dir, TF)\n",
    "dataFiles = glob.glob(data_dir + TF + \"_*_\" + cycle + \"*\")\n",
    "print(\"FASTQ files:\\n\", *dataFiles)\n",
    "n_kmers = 1\n",
    "w = 30\n",
    "n_motifs = 1\n",
    "if n_kmers > n_motifs:\n",
    "    n_kmers = n_motifs\n",
    "use_bias = True\n",
    "epochs = 10\n",
    "l2 = 0.00001\n",
    "l1 = 0.00001\n"
   ]
  },
  {
   "cell_type": "code",
   "execution_count": 12,
   "id": "962bfa97-f36f-4b77-b99d-7ef56a48ad20",
   "metadata": {
    "execution": {
     "iopub.execute_input": "2024-10-01T11:07:24.907771Z",
     "iopub.status.busy": "2024-10-01T11:07:24.907567Z",
     "iopub.status.idle": "2024-10-01T11:07:26.319233Z",
     "shell.execute_reply": "2024-10-01T11:07:26.318563Z",
     "shell.execute_reply.started": "2024-10-01T11:07:24.907746Z"
    }
   },
   "outputs": [
    {
     "name": "stdout",
     "output_type": "stream",
     "text": [
      "There are 206609 total sequences\n"
     ]
    }
   ],
   "source": [
    "seqs = []\n",
    "for fastq in dataFiles:\n",
    "    with gzip.open(fastq) as f:\n",
    "        for i, line in enumerate(f):\n",
    "            if i % 4 == 1:\n",
    "                seqs.append(str(line, encoding=\"utf-8\").strip().split()[0])\n",
    "\n",
    "print(\"There are {} total sequences\".format(len(seqs)))\n",
    "n = len(seqs)\n",
    "random.shuffle(seqs)"
   ]
  },
  {
   "cell_type": "code",
   "execution_count": 13,
   "id": "c22d75c9-5cef-42c8-ab7c-405851386b92",
   "metadata": {
    "execution": {
     "iopub.execute_input": "2024-10-01T11:07:34.718130Z",
     "iopub.status.busy": "2024-10-01T11:07:34.717915Z",
     "iopub.status.idle": "2024-10-01T11:07:38.966126Z",
     "shell.execute_reply": "2024-10-01T11:07:38.965463Z",
     "shell.execute_reply.started": "2024-10-01T11:07:34.718104Z"
    }
   },
   "outputs": [
    {
     "name": "stdout",
     "output_type": "stream",
     "text": [
      "Finding enriched gapped kmers\n"
     ]
    },
    {
     "name": "stderr",
     "output_type": "stream",
     "text": [
      "Searching positive sequences: 100%|██████████| 19/19 [00:01<00:00, 12.16it/s]\n",
      "Searching negative sequences: 100%|██████████| 19/19 [00:01<00:00, 12.21it/s]\n"
     ]
    },
    {
     "name": "stdout",
     "output_type": "stream",
     "text": [
      "Enriched kmers...\n",
      "\tGGGNNNNCCC\n"
     ]
    }
   ],
   "source": [
    "if n_kmers > 0:\n",
    "    print(\"Finding enriched gapped kmers\")\n",
    "    tmpPosSeqs = seqs[:5000]\n",
    "    kmers = find_enriched_gapped_kmers(tmpPosSeqs, [dinuclShuffle(_) for _ in tmpPosSeqs],  3, 0, 18, \"dna\", False, n_kmers)\n",
    "print(\"Enriched kmers...\\n\" + \"\\n\".join([\"\\t\" + _ for _ in kmers[::-1]]))"
   ]
  },
  {
   "cell_type": "code",
   "execution_count": 14,
   "id": "2963718e-6371-4252-9e5c-47d986a86ca4",
   "metadata": {
    "execution": {
     "iopub.execute_input": "2024-10-01T11:07:43.113406Z",
     "iopub.status.busy": "2024-10-01T11:07:43.113166Z",
     "iopub.status.idle": "2024-10-01T11:07:43.175098Z",
     "shell.execute_reply": "2024-10-01T11:07:43.174554Z",
     "shell.execute_reply.started": "2024-10-01T11:07:43.113378Z"
    }
   },
   "outputs": [
    {
     "name": "stdout",
     "output_type": "stream",
     "text": [
      "Maximum sequence length = 40\n",
      "Maximum sequence length = 40\n"
     ]
    }
   ],
   "source": [
    "holdOutP = .1\n",
    "n = len(seqs)\n",
    "\n",
    "\n",
    "trainGen = dataGen(seqs[:int((1 - holdOutP)*n)],\n",
    "                   seqsPerEpoch=5000, \n",
    "                   padBy=w)\n",
    "testGen = dataGen(seqs[int((1 - holdOutP)*n):],\n",
    "                  seqsPerEpoch=1000, padBy=w)"
   ]
  },
  {
   "cell_type": "code",
   "execution_count": 15,
   "id": "5dd01abb-1300-47c1-a21e-b1a4fe9d0beb",
   "metadata": {
    "execution": {
     "iopub.execute_input": "2024-10-01T11:07:56.723126Z",
     "iopub.status.busy": "2024-10-01T11:07:56.722909Z",
     "iopub.status.idle": "2024-10-01T11:07:56.889976Z",
     "shell.execute_reply": "2024-10-01T11:07:56.889432Z",
     "shell.execute_reply.started": "2024-10-01T11:07:56.723099Z"
    }
   },
   "outputs": [
    {
     "name": "stdout",
     "output_type": "stream",
     "text": [
      "WARNING:tensorflow:From /usr/local/lib/python3.6/site-packages/tensorflow_core/python/ops/resource_variable_ops.py:1630: calling BaseResourceVariable.__init__ (from tensorflow.python.ops.resource_variable_ops) with constraint is deprecated and will be removed in a future version.\n",
      "Instructions for updating:\n",
      "If using Keras pass *_constraint arguments to layers.\n",
      "WARNING:tensorflow:From /usr/local/lib/python3.6/site-packages/tensorflow_core/python/keras/initializers.py:119: calling RandomUniform.__init__ (from tensorflow.python.ops.init_ops) with dtype is deprecated and will be removed in a future version.\n",
      "Instructions for updating:\n",
      "Call initializer instance with the dtype argument instead of passing it to the constructor\n",
      "WARNING:tensorflow:From /usr/local/lib/python3.6/site-packages/tensorflow_core/python/ops/nn_impl.py:183: where (from tensorflow.python.ops.array_ops) is deprecated and will be removed in a future version.\n",
      "Instructions for updating:\n",
      "Use tf.where in 2.0, which has the same broadcast rule as np.where\n",
      "Model: \"model\"\n",
      "__________________________________________________________________________________________________\n",
      "Layer (type)                    Output Shape         Param #     Connected to                     \n",
      "==================================================================================================\n",
      "input_1 (InputLayer)            [(None, None, 4)]    0                                            \n",
      "__________________________________________________________________________________________________\n",
      "gaussian_noise (GaussianNoise)  (None, None, 4)      0           input_1[0][0]                    \n",
      "__________________________________________________________________________________________________\n",
      "lambda (Lambda)                 (None, None, 4)      0           gaussian_noise[0][0]             \n",
      "__________________________________________________________________________________________________\n",
      "shared_conv (Conv1D)            (None, None, 1)      121         gaussian_noise[0][0]             \n",
      "                                                                 lambda[1][0]                     \n",
      "__________________________________________________________________________________________________\n",
      "maximum (Maximum)               (None, None, 1)      0           shared_conv[0][0]                \n",
      "                                                                 shared_conv[1][0]                \n",
      "__________________________________________________________________________________________________\n",
      "global_max_pooling1d (GlobalMax (None, 1)            0           maximum[0][0]                    \n",
      "__________________________________________________________________________________________________\n",
      "dense_1 (Dense)                 (None, 1)            2           global_max_pooling1d[0][0]       \n",
      "==================================================================================================\n",
      "Total params: 123\n",
      "Trainable params: 123\n",
      "Non-trainable params: 0\n",
      "__________________________________________________________________________________________________\n"
     ]
    }
   ],
   "source": [
    "use_bias = True\n",
    "model = construct_model(num_kernels=n_motifs,\n",
    "                        kernel_width=w,\n",
    "                        use_bias=use_bias, \n",
    "                        l2_reg=l2)"
   ]
  },
  {
   "cell_type": "code",
   "execution_count": 16,
   "id": "97719c9f-4ce0-4af7-b2a9-7b304edecbb0",
   "metadata": {
    "execution": {
     "iopub.execute_input": "2024-10-01T11:08:08.119844Z",
     "iopub.status.busy": "2024-10-01T11:08:08.119626Z",
     "iopub.status.idle": "2024-10-01T11:08:08.288924Z",
     "shell.execute_reply": "2024-10-01T11:08:08.288347Z",
     "shell.execute_reply.started": "2024-10-01T11:08:08.119817Z"
    }
   },
   "outputs": [],
   "source": [
    "if n_kmers > 0:\n",
    "    if use_bias:\n",
    "        conv_weights, conv_bias = model.get_layer(\"shared_conv\").get_weights()\n",
    "    else:\n",
    "        conv_weights = model.get_layer(\"shared_conv\").get_weights()[0]\n",
    "\n",
    "\n",
    "    for i in range(n_kmers):\n",
    "        kmer = kmers[i]\n",
    "        l = len(kmer)\n",
    "        conv_weights[((w - l)//2):(((w - l)//2)+l),:,i] = encode_sequence(kmer)\n",
    "\n",
    "\n",
    "    if use_bias:\n",
    "        model.get_layer(\"shared_conv\").set_weights([conv_weights, conv_bias])\n",
    "    else:\n",
    "        model.get_layer(\"shared_conv\").set_weights([conv_weights])"
   ]
  },
  {
   "cell_type": "code",
   "execution_count": 18,
   "id": "80a7bcbf-e71d-499c-b7bd-c0274d42500c",
   "metadata": {
    "execution": {
     "iopub.execute_input": "2024-10-01T11:08:39.925076Z",
     "iopub.status.busy": "2024-10-01T11:08:39.924871Z",
     "iopub.status.idle": "2024-10-01T11:08:39.929022Z",
     "shell.execute_reply": "2024-10-01T11:08:39.928426Z",
     "shell.execute_reply.started": "2024-10-01T11:08:39.925048Z"
    },
    "tags": []
   },
   "outputs": [],
   "source": [
    "min_lr = .001\n",
    "max_lr = .1\n",
    "lr_decay = (min_lr / max_lr) ** (1 / epochs)\n",
    "schedule = SGDRScheduler(min_lr=min_lr,\n",
    "                             max_lr=max_lr,\n",
    "                             steps_per_epoch=trainGen.__len__(),\n",
    "                             lr_decay=lr_decay,\n",
    "                             cycle_length=1,\n",
    "                             mult_factor=1.0, \n",
    "                             shape=\"triangular\")\n",
    "\n",
    "swa = SWA(epochs)"
   ]
  },
  {
   "cell_type": "code",
   "execution_count": 20,
   "id": "d592a27d-c46f-42f8-8033-45e48f6d18be",
   "metadata": {
    "execution": {
     "iopub.execute_input": "2024-10-01T11:09:01.570238Z",
     "iopub.status.busy": "2024-10-01T11:09:01.570015Z",
     "iopub.status.idle": "2024-10-01T11:09:17.366747Z",
     "shell.execute_reply": "2024-10-01T11:09:17.366083Z",
     "shell.execute_reply.started": "2024-10-01T11:09:01.570211Z"
    }
   },
   "outputs": [
    {
     "name": "stdout",
     "output_type": "stream",
     "text": [
      "Epoch 1/10\n",
      "151/156 [============================>.] - ETA: 0s - loss: 0.1974 - acc: 0.9077Epoch 1/10\n",
      "156/156 [==============================] - 2s 13ms/step - loss: 0.1931 - acc: 0.9103 - val_loss: 0.0435 - val_acc: 0.9869\n",
      "Epoch 2/10\n",
      "149/156 [===========================>..] - ETA: 0s - loss: 0.0779 - acc: 0.9771Epoch 1/10\n",
      "156/156 [==============================] - 2s 10ms/step - loss: 0.0784 - acc: 0.9776 - val_loss: 0.0435 - val_acc: 0.9839\n",
      "Epoch 3/10\n",
      "149/156 [===========================>..] - ETA: 0s - loss: 0.0710 - acc: 0.9799Epoch 1/10\n",
      "156/156 [==============================] - 2s 10ms/step - loss: 0.0718 - acc: 0.9794 - val_loss: 0.0535 - val_acc: 0.9869\n",
      "Epoch 4/10\n",
      "148/156 [===========================>..] - ETA: 0s - loss: 0.0651 - acc: 0.9808Epoch 1/10\n",
      "156/156 [==============================] - 2s 10ms/step - loss: 0.0637 - acc: 0.9812 - val_loss: 0.0695 - val_acc: 0.9879\n",
      "Epoch 5/10\n",
      "151/156 [============================>.] - ETA: 0s - loss: 0.0624 - acc: 0.9816Epoch 1/10\n",
      "156/156 [==============================] - 2s 10ms/step - loss: 0.0636 - acc: 0.9820 - val_loss: 0.0405 - val_acc: 0.9899\n",
      "Epoch 6/10\n",
      "149/156 [===========================>..] - ETA: 0s - loss: 0.0743 - acc: 0.9776Epoch 1/10\n",
      "156/156 [==============================] - 2s 10ms/step - loss: 0.0737 - acc: 0.9782 - val_loss: 0.0746 - val_acc: 0.9849\n",
      "Epoch 7/10\n",
      "153/156 [============================>.] - ETA: 0s - loss: 0.0749 - acc: 0.9788Epoch 1/10\n",
      "156/156 [==============================] - 2s 10ms/step - loss: 0.0744 - acc: 0.9790 - val_loss: 0.0515 - val_acc: 0.9859\n",
      "Epoch 8/10\n",
      "153/156 [============================>.] - ETA: 0s - loss: 0.0620 - acc: 0.9833Epoch 1/10\n",
      "156/156 [==============================] - 1s 10ms/step - loss: 0.0619 - acc: 0.9834 - val_loss: 0.0258 - val_acc: 0.9899\n",
      "Epoch 9/10\n",
      "150/156 [===========================>..] - ETA: 0s - loss: 0.0686 - acc: 0.9800Epoch 1/10\n",
      "156/156 [==============================] - 2s 10ms/step - loss: 0.0685 - acc: 0.9800 - val_loss: 0.0432 - val_acc: 0.9899\n",
      "Epoch 10/10\n",
      "149/156 [===========================>..] - ETA: 0s - loss: 0.0684 - acc: 0.9797Epoch 1/10\n",
      "156/156 [==============================] - 2s 10ms/step - loss: 0.0712 - acc: 0.9794 - val_loss: 0.0417 - val_acc: 0.9889\n"
     ]
    }
   ],
   "source": [
    "history = model.fit_generator(trainGen, \n",
    "                              steps_per_epoch = trainGen.__len__(), \n",
    "                              verbose=1, \n",
    "                              epochs=epochs,\n",
    "                              workers=4,\n",
    "                              callbacks = [schedule, swa], validation_data = testGen,\n",
    "                              validation_steps = testGen.__len__())"
   ]
  },
  {
   "cell_type": "code",
   "execution_count": 21,
   "id": "5b6ece8a-491a-4630-adfc-eddd87f568a5",
   "metadata": {
    "execution": {
     "iopub.execute_input": "2024-10-01T11:09:34.261957Z",
     "iopub.status.busy": "2024-10-01T11:09:34.261737Z",
     "iopub.status.idle": "2024-10-01T11:09:34.303940Z",
     "shell.execute_reply": "2024-10-01T11:09:34.303351Z",
     "shell.execute_reply.started": "2024-10-01T11:09:34.261930Z"
    }
   },
   "outputs": [],
   "source": [
    "if not os.path.exists(output_dir):\n",
    "    run(\"mkdir -p {}\".format(output_dir), shell=True)\n",
    "model.save_weights(output_dir + \"/weights.h5\")"
   ]
  },
  {
   "cell_type": "code",
   "execution_count": 22,
   "id": "0169ac83-8f56-406c-8b3a-6236d03b729e",
   "metadata": {
    "execution": {
     "iopub.execute_input": "2024-10-01T11:09:40.169346Z",
     "iopub.status.busy": "2024-10-01T11:09:40.169116Z",
     "iopub.status.idle": "2024-10-01T11:09:40.173324Z",
     "shell.execute_reply": "2024-10-01T11:09:40.172727Z",
     "shell.execute_reply.started": "2024-10-01T11:09:40.169318Z"
    }
   },
   "outputs": [],
   "source": [
    "if use_bias:\n",
    "    conv_weights, conv_bias = model.get_layer(\"shared_conv\").get_weights()\n",
    "else:\n",
    "    conv_weights = model.get_layer(\"shared_conv\").get_weights()[0]"
   ]
  },
  {
   "cell_type": "code",
   "execution_count": 23,
   "id": "cbb2eb1b-a444-4724-aecd-bb96639605ff",
   "metadata": {
    "execution": {
     "iopub.execute_input": "2024-10-01T11:09:45.658891Z",
     "iopub.status.busy": "2024-10-01T11:09:45.658697Z",
     "iopub.status.idle": "2024-10-01T11:09:49.669622Z",
     "shell.execute_reply": "2024-10-01T11:09:49.668904Z",
     "shell.execute_reply.started": "2024-10-01T11:09:45.658865Z"
    }
   },
   "outputs": [
    {
     "name": "stdout",
     "output_type": "stream",
     "text": [
      "{0: 0.997781}\n"
     ]
    }
   ],
   "source": [
    "AUCs = {}\n",
    "nSteps = 500\n",
    "from sklearn.metrics import roc_auc_score\n",
    "for i in range(n_motifs):\n",
    "    tmp_conv_weights = np.zeros(conv_weights.shape)\n",
    "    if use_bias:\n",
    "        tmp_bias = np.zeros(n_motifs)\n",
    "    tmp_conv_weights[:,:,i] = conv_weights[:,:,i]\n",
    "    \n",
    "    if use_bias:\n",
    "        tmp_bias[i] = conv_bias[i]\n",
    "    \n",
    "    if use_bias:\n",
    "        model.get_layer(\"shared_conv\").set_weights([tmp_conv_weights, tmp_bias])\n",
    "    else:\n",
    "        model.get_layer(\"shared_conv\").set_weights([tmp_conv_weights])\n",
    "    yPred = model.predict(testGen, steps=nSteps)\n",
    "    yTest = np.array(nSteps*([1 for i in range(16)] + [0 for i in range(16)]))\n",
    "    AUCs[i] = roc_auc_score(yTest, yPred)\n",
    "print(AUCs)"
   ]
  },
  {
   "cell_type": "code",
   "execution_count": 24,
   "id": "6179085b-d928-4ea8-9e08-fb50b6f3892f",
   "metadata": {
    "execution": {
     "iopub.execute_input": "2024-10-01T11:09:55.604058Z",
     "iopub.status.busy": "2024-10-01T11:09:55.603851Z",
     "iopub.status.idle": "2024-10-01T11:09:55.690483Z",
     "shell.execute_reply": "2024-10-01T11:09:55.689871Z",
     "shell.execute_reply.started": "2024-10-01T11:09:55.604025Z"
    }
   },
   "outputs": [],
   "source": [
    "scan_model = construct_scan_model(conv_weights)"
   ]
  },
  {
   "cell_type": "code",
   "execution_count": 25,
   "id": "3bf09d91-d1f4-4c73-9ff1-a03a9df0e766",
   "metadata": {
    "execution": {
     "iopub.execute_input": "2024-10-01T11:10:03.184744Z",
     "iopub.status.busy": "2024-10-01T11:10:03.184532Z",
     "iopub.status.idle": "2024-10-01T11:20:38.545978Z",
     "shell.execute_reply": "2024-10-01T11:20:38.545294Z",
     "shell.execute_reply.started": "2024-10-01T11:10:03.184719Z"
    }
   },
   "outputs": [
    {
     "name": "stderr",
     "output_type": "stream",
     "text": [
      "100%|██████████| 206609/206609 [10:35<00:00, 325.28it/s]\n"
     ]
    }
   ],
   "source": [
    "anr = False\n",
    "thresh = 0\n",
    "random.shuffle(seqs)\n",
    "with open(output_dir + \"/motifs.bed\", \"w\") as f:\n",
    "    for i in tqdm.trange(len(seqs)):\n",
    "        seq = seqs[i]\n",
    "        chrom = \"seq_\" + str(i)\n",
    "        start = 1\n",
    "        stop = len(seq)\n",
    "        encoded_seq = np.vstack((0.25*np.ones((w,4)), encode_sequence(seq), 0.25*np.ones((w,4))))\n",
    "        encoded_seq_rc = encoded_seq[::-1,::-1]\n",
    "\n",
    "        conv_for = scan_model.predict(np.expand_dims(encoded_seq, axis = 0), verbose=0)[0]\n",
    "        conv_rc = scan_model.predict(np.expand_dims(encoded_seq_rc, axis = 0), verbose=0)[0]\n",
    "\n",
    "        for k in range(n_motifs):\n",
    "            if anr:\n",
    "                matches_for = np.argwhere(conv_for[:,k] > thresh)[:,0].tolist()\n",
    "                matches_rc = np.argwhere(conv_rc[:,k] > thresh)[:,0].tolist()\n",
    "                for x in matches_for:\n",
    "                    motif_start = x - w \n",
    "                    motif_end = motif_start + w\n",
    "                    score = conv_for[x,k]\n",
    "                    pfms[k] += encoded_seq[x:x+w,:]\n",
    "\n",
    "                for x in matches_rc:\n",
    "                    motif_end = x + w\n",
    "                    motif_start = motif_end - w \n",
    "                    score = conv_rc[x,k] \n",
    "                    pfms[k] += encoded_seq_rc[x:x+w,:]\n",
    "                    n_instances[k] += 1\n",
    "                \n",
    "            else:\n",
    "                maxFor = np.max(conv_for[:,k])\n",
    "                maxRC = np.max(conv_rc[:,k])\n",
    "\n",
    "                if maxFor > thresh or maxRC > thresh:\n",
    "                    if maxFor > maxRC:\n",
    "                        x = np.argmax(conv_for[:,k])\n",
    "                        motif_start = x - w \n",
    "                        motif_end = motif_start + w\n",
    "                        score = conv_for[x,k]\n",
    "                        motifSeq = decode_sequence(encoded_seq[x:x+w,:])\n",
    "                        print(chrom, start+motif_start, start+motif_end, k, score, \"+\", motifSeq, seq, file=f, sep=\"\\t\")\n",
    "                    else:\n",
    "                        x = np.argmax(conv_rc[:,k])\n",
    "                        motif_end = x + w\n",
    "                        motif_start = motif_end - w \n",
    "                        score = conv_rc[x,k] \n",
    "                        motifSeq = decode_sequence(encoded_seq_rc[x:x+w,:])\n",
    "                        print(chrom, stop-motif_start, stop-motif_start+w, k, score, \"-\", motifSeq, seq, file=f, sep=\"\\t\")\n"
   ]
  },
  {
   "cell_type": "code",
   "execution_count": 26,
   "id": "40919af0-b641-499b-8a5b-08819eb5b3f8",
   "metadata": {
    "execution": {
     "iopub.execute_input": "2024-10-01T11:20:38.547436Z",
     "iopub.status.busy": "2024-10-01T11:20:38.547247Z",
     "iopub.status.idle": "2024-10-01T11:20:45.733627Z",
     "shell.execute_reply": "2024-10-01T11:20:45.733021Z",
     "shell.execute_reply.started": "2024-10-01T11:20:38.547408Z"
    }
   },
   "outputs": [],
   "source": [
    "df = pd.read_csv(output_dir + \"/motifs.bed\", sep=\"\\t\", names=[\"chrom\", \"start\", \"stop\", \"kernel\", \"score\", \"strand\", \"seq\", \"og_seq\"])\n",
    "df[\"auc\"] = df.kernel.map(AUCs)\n",
    "df.to_csv(output_dir + \"/motifs.txt.gz\", sep=\"\\t\", header=True, index=False)\n",
    "os.remove(output_dir + \"/motifs.bed\")"
   ]
  },
  {
   "cell_type": "code",
   "execution_count": 27,
   "id": "13c73e4b-77e8-4845-8532-6fca12272889",
   "metadata": {
    "execution": {
     "iopub.execute_input": "2024-10-01T11:20:45.735088Z",
     "iopub.status.busy": "2024-10-01T11:20:45.734905Z",
     "iopub.status.idle": "2024-10-01T11:20:48.849652Z",
     "shell.execute_reply": "2024-10-01T11:20:48.849004Z",
     "shell.execute_reply.started": "2024-10-01T11:20:45.735062Z"
    }
   },
   "outputs": [
    {
     "data": {
      "image/png": "[encoded data removed]",
      "text/plain": [
       "<Figure size 1440x576 with 1 Axes>"
      ]
     },
     "metadata": {
      "needs_background": "light"
     },
     "output_type": "display_data"
    }
   ],
   "source": [
    "fig, axes = plt.subplots(4,4, figsize=(20,8), tight_layout=True)\n",
    "for plot_i, i in enumerate(np.argsort(list(AUCs.values()))[::-1]):\n",
    "    n = df[df[\"kernel\"] == i].shape[0]\n",
    "    if n > 0:\n",
    "        auc = AUCs[i]\n",
    "        ax = axes.flatten()[plot_i]\n",
    "        ppm = logomaker.alignment_to_matrix(df[df[\"kernel\"] == i].seq, to_type=\"counts\")\n",
    "        for nuc in [\"A\", \"C\", \"G\", \"T\"]:\n",
    "            if nuc not in ppm.columns:\n",
    "                ppm[nuc] = 0.0\n",
    "        ppm = ppm[[\"A\", \"C\", \"G\", \"T\"]]\n",
    "        ppm = ppm.div(ppm.sum(axis=1), axis=0)\n",
    "        logomaker.Logo(ppm.applymap(get_information_content), ax=ax)\n",
    "        ax.set_ylim([0,2])\n",
    "        ax.set_title(\"Kernel {0}; N = {1}; auROC = {2:.2f}\".format(i, n, auc))\n",
    "    else:\n",
    "        ax = axes.flatten()[plot_i]\n",
    "        fig.delaxes(ax)\n",
    "        \n",
    "for i in range(n_motifs, 16):\n",
    "    fig.delaxes(axes.flatten()[i])\n",
    "plt.savefig(output_dir + \"/logos.png\")"
   ]
  },
  {
   "cell_type": "code",
   "execution_count": null,
   "id": "7186db88-2c8f-4830-b2da-f614fd41f1d4",
   "metadata": {},
   "outputs": [],
   "source": []
  }
 ],
 "metadata": {
  "kernelspec": {
   "display_name": "Python 3",
   "language": "python",
   "name": "python3"
  },
  "language_info": {
   "codemirror_mode": {
    "name": "ipython",
    "version": 3
   },
   "file_extension": ".py",
   "mimetype": "text/x-python",
   "name": "python",
   "nbconvert_exporter": "python",
   "pygments_lexer": "ipython3",
   "version": "3.6.15"
  }
 },
 "nbformat": 4,
 "nbformat_minor": 5
}
