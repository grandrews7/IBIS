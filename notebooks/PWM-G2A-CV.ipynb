{
 "cells": [
  {
   "cell_type": "code",
   "execution_count": 41,
   "id": "441e1882-ae8e-42e9-97a9-b8856ccb9a2e",
   "metadata": {
    "execution": {
     "iopub.execute_input": "2024-09-25T22:50:27.851574Z",
     "iopub.status.busy": "2024-09-25T22:50:27.851369Z",
     "iopub.status.idle": "2024-09-25T22:50:27.858480Z",
     "shell.execute_reply": "2024-09-25T22:50:27.857957Z",
     "shell.execute_reply.started": "2024-09-25T22:50:27.851549Z"
    },
    "tags": []
   },
   "outputs": [],
   "source": [
    "import tensorflow as tf\n",
    "tf.__version__\n",
    "tf.compat.v1.disable_eager_execution()\n",
    "\n",
    "import numpy as np\n",
    "from tensorflow.keras import initializers\n",
    "from tensorflow.keras.layers import Input, Lambda, Conv1D, maximum, GlobalMaxPooling1D, Dense, GaussianNoise, MaxPooling1D, Flatten, BatchNormalization\n",
    "from tensorflow.keras import regularizers\n",
    "from tensorflow.keras.constraints import non_neg\n",
    "from tensorflow.keras.models import Model\n",
    "from tensorflow.keras import backend as K\n",
    "\n",
    "import matplotlib.pyplot as plt\n",
    "import pandas as pd\n",
    "import logomaker\n",
    "\n",
    "import random\n",
    "import tqdm\n",
    "from tqdm import trange\n",
    "from subprocess import Popen, PIPE, run\n",
    "import sys\n",
    "import pickle\n",
    "from pyfaidx import Fasta\n",
    "from  tensorflow.keras.callbacks import Callback\n",
    "from tensorflow.keras.utils import Sequence\n",
    "import random\n",
    "import glob\n",
    "import bioframe\n",
    "import os\n",
    "import tempfile\n",
    "from collections import Counter\n",
    "from sklearn.utils import shuffle\n",
    "from sklearn.metrics import roc_auc_score, roc_curve\n",
    "from sklearn.mixture import GaussianMixture\n",
    "from multiprocessing import Pool"
   ]
  },
  {
   "cell_type": "code",
   "execution_count": 2,
   "id": "27f4b206-52e4-495f-b7b2-16dbb9d81888",
   "metadata": {
    "execution": {
     "iopub.execute_input": "2024-09-25T22:29:36.121165Z",
     "iopub.status.busy": "2024-09-25T22:29:36.121008Z",
     "iopub.status.idle": "2024-09-25T22:29:36.137678Z",
     "shell.execute_reply": "2024-09-25T22:29:36.137201Z",
     "shell.execute_reply.started": "2024-09-25T22:29:36.121143Z"
    },
    "tags": []
   },
   "outputs": [
    {
     "name": "stdout",
     "output_type": "stream",
     "text": [
      "WARNING:tensorflow:From /usr/local/lib/python3.6/site-packages/tensorflow_core/python/keras/initializers.py:143: calling RandomNormal.__init__ (from tensorflow.python.ops.init_ops) with dtype is deprecated and will be removed in a future version.\n",
      "Instructions for updating:\n",
      "Call initializer instance with the dtype argument instead of passing it to the constructor\n"
     ]
    }
   ],
   "source": [
    "def construct_model(num_kernels=32,\n",
    "                    kernel_width=24,\n",
    "                    seq_len=None,\n",
    "                    dropout_prop=0.0,\n",
    "                    use_bias=False,\n",
    "                    kernel_initializer=initializers.RandomNormal(stddev=0.0001, seed=12),\n",
    "                    optimizer='adam',\n",
    "                    activation='linear',\n",
    "                    num_classes=1,\n",
    "                    l1_reg=0.0,\n",
    "                    l2_reg= 0.0,\n",
    "                    gaussian_noise = 0.1,\n",
    "                    spatial_dropout = 0.0,\n",
    "                    rc = True,\n",
    "                    padding=\"same\",\n",
    "                    conv_name=\"shared_conv\"):\n",
    "    if rc:\n",
    "        seq_input = Input(shape=(seq_len,4))\n",
    "        rc_op = Lambda(lambda x: K.reverse(x,axes=(1,2)))\n",
    "        seq_rc = rc_op(seq_input)\n",
    "        if gaussian_noise > 0.0:\n",
    "            noisy_seq = GaussianNoise(gaussian_noise)(seq_input)\n",
    "            noisy_seq_rc = rc_op(noisy_seq)\n",
    "        \n",
    "        shared_conv = Conv1D(num_kernels, kernel_width,\n",
    "                             strides=1,\n",
    "                             padding=padding, \n",
    "                             activation=activation,\n",
    "                             use_bias=use_bias,\n",
    "                             kernel_initializer=kernel_initializer,\n",
    "                             kernel_regularizer=regularizers.l1_l2(l1=l1_reg,\n",
    "                                                                   l2=l2_reg),\n",
    "                             bias_initializer='zeros',\n",
    "                             name=conv_name)\n",
    "\n",
    "        if gaussian_noise > 0:\n",
    "            conv_for = shared_conv(noisy_seq)\n",
    "            conv_rc = shared_conv(noisy_seq_rc)\n",
    "        else:\n",
    "            conv_for = shared_conv(seq_input)\n",
    "            conv_rc = shared_conv(seq_rc)\n",
    "            \n",
    "\n",
    "        merged = maximum([conv_for, conv_rc])\n",
    "        pooled = GlobalMaxPooling1D()(merged)\n",
    "        if dropout_prop > 0.0:\n",
    "            dropout = Dropout(dropout_prop)(pooled)\n",
    "            output = Dense(1, activation='sigmoid',\n",
    "                       use_bias=True,\n",
    "                       kernel_initializer=initializers.RandomUniform(minval=0.0, maxval=0.001, seed=12), \n",
    "                       kernel_constraint=non_neg(), \n",
    "                       bias_initializer='zeros',\n",
    "                       name=\"dense_1\")(dropout)\n",
    "        else:\n",
    "            output = Dense(1, activation='sigmoid',\n",
    "                           use_bias=True,\n",
    "                           kernel_initializer=initializers.RandomUniform(minval=0.0, maxval=0.001, seed=12), \n",
    "                           kernel_constraint=non_neg(), \n",
    "                           bias_initializer='zeros',\n",
    "                           name=\"dense_1\")(pooled)\n",
    "        model = Model(inputs=seq_input, outputs=output)\n",
    "        model.compile(optimizer='adam', loss='binary_crossentropy', metrics=['accuracy'])\n",
    "        model.summary()\n",
    "        return model\n",
    "\n",
    "\n",
    "\n",
    "def construct_scan_model(conv_weights):\n",
    "    kernel_width = conv_weights.shape[0]\n",
    "    num_kernels = conv_weights.shape[2]\n",
    "    seq = Input(shape=(None,4))\n",
    "    conv = Conv1D(num_kernels, kernel_width, \n",
    "                  name = 'scan_conv',\n",
    "                  strides=1, \n",
    "                  padding='valid', \n",
    "                  activation='linear', \n",
    "                  use_bias=False, \n",
    "                  kernel_initializer='zeros', \n",
    "                  bias_initializer='zeros',\n",
    "                  trainable=False)\n",
    "    \n",
    "    conv_seq = conv(seq)\n",
    "    \n",
    "    \n",
    "    model = Model(inputs=seq, outputs=conv_seq)\n",
    "    model.compile(optimizer='adam', loss='binary_crossentropy', metrics=['accuracy'])\n",
    "    model.get_layer('scan_conv').set_weights([conv_weights])\n",
    "    return model\n",
    "\n",
    "\n",
    "def construct_score_model(conv_weights):\n",
    "    kernel_width = conv_weights.shape[0]\n",
    "    num_kernels = conv_weights.shape[2]\n",
    "    seq = Input(shape=(None,4))\n",
    "    rc_op = Lambda(lambda x: K.reverse(x,axes=(1,2)))\n",
    "    seq_rc = rc_op(seq)\n",
    "    \n",
    "    conv = Conv1D(num_kernels, kernel_width, \n",
    "                  name = 'score_conv',\n",
    "                  strides=1, \n",
    "                  padding='valid', \n",
    "                  activation='linear', \n",
    "                  use_bias=False, \n",
    "                  kernel_initializer='zeros', \n",
    "                  bias_initializer='zeros',\n",
    "                  trainable=False)\n",
    "    \n",
    "    conv_for = conv(seq)\n",
    "    conv_rc = conv(seq_rc)\n",
    "    \n",
    "    merged = maximum([conv_for, conv_rc])\n",
    "    pooled = GlobalMaxPooling1D()(merged)\n",
    "    model = Model(inputs=seq, outputs=pooled)\n",
    "    model.compile(optimizer='adam', loss='binary_crossentropy', metrics=['accuracy'])\n",
    "    model.get_layer(\"score_conv\").set_weights([conv_weights])\n",
    "    print(model.summary())\n",
    "    return model\n"
   ]
  },
  {
   "cell_type": "code",
   "execution_count": 3,
   "id": "fa04375e-00d3-4426-8826-a6975172e6be",
   "metadata": {
    "execution": {
     "iopub.execute_input": "2024-09-25T22:29:36.138926Z",
     "iopub.status.busy": "2024-09-25T22:29:36.138754Z",
     "iopub.status.idle": "2024-09-25T22:29:36.171217Z",
     "shell.execute_reply": "2024-09-25T22:29:36.170720Z",
     "shell.execute_reply.started": "2024-09-25T22:29:36.138903Z"
    },
    "tags": []
   },
   "outputs": [],
   "source": [
    "# In[10]:\n",
    "\n",
    "\n",
    "# altschulEriksonDinuclShuffle.py\n",
    "# P. Clote, Oct 2003\n",
    "\n",
    "def computeCountAndLists(s):\n",
    "\n",
    "    #Initialize lists and mono- and dinucleotide dictionaries\n",
    "    List = {} #List is a dictionary of lists\n",
    "    List['A'] = []; List['C'] = [];\n",
    "    List['G'] = []; List['T'] = [];\n",
    "    # FIXME: is this ok?\n",
    "    List['N'] = []\n",
    "    nuclList   = [\"A\",\"C\",\"G\",\"T\",\"N\"]\n",
    "    s       = s.upper()\n",
    "    #s       = s.replace(\"U\",\"T\")\n",
    "    nuclCnt    = {}  #empty dictionary\n",
    "    dinuclCnt  = {}  #empty dictionary\n",
    "    for x in nuclList:\n",
    "        nuclCnt[x]=0\n",
    "        dinuclCnt[x]={}\n",
    "        for y in nuclList:\n",
    "            dinuclCnt[x][y]=0\n",
    "\n",
    "    #Compute count and lists\n",
    "    nuclCnt[s[0]] = 1\n",
    "    nuclTotal     = 1\n",
    "    dinuclTotal   = 0\n",
    "    for i in range(len(s)-1):\n",
    "        x = s[i]; y = s[i+1]\n",
    "        List[x].append( y )\n",
    "        nuclCnt[y] += 1; nuclTotal  += 1\n",
    "        dinuclCnt[x][y] += 1; dinuclTotal += 1\n",
    "    assert (nuclTotal==len(s))\n",
    "    assert (dinuclTotal==len(s)-1)\n",
    "    return nuclCnt,dinuclCnt,List\n",
    "\n",
    "\n",
    "def chooseEdge(x,dinuclCnt):\n",
    "    z = random.random()\n",
    "    denom=dinuclCnt[x]['A']+dinuclCnt[x]['C']+dinuclCnt[x]['G']+dinuclCnt[x]['T']+dinuclCnt[x]['N']\n",
    "    numerator = dinuclCnt[x]['A']\n",
    "    if z < float(numerator)/float(denom):\n",
    "        dinuclCnt[x]['A'] -= 1\n",
    "        return 'A'\n",
    "    numerator += dinuclCnt[x]['C']\n",
    "    if z < float(numerator)/float(denom):\n",
    "        dinuclCnt[x]['C'] -= 1\n",
    "        return 'C'\n",
    "    numerator += dinuclCnt[x]['G']\n",
    "    if z < float(numerator)/float(denom):\n",
    "        dinuclCnt[x]['G'] -= 1\n",
    "        return 'G'\n",
    "    numerator += dinuclCnt[x]['T']\n",
    "    if z < float(numerator)/float(denom):\n",
    "        dinuclCnt[x]['T'] -= 1\n",
    "        return 'T'\n",
    "    dinuclCnt[x]['N'] -= 1\n",
    "    return 'N'\n",
    "\n",
    "def connectedToLast(edgeList,nuclList,lastCh):\n",
    "    D = {}\n",
    "    for x in nuclList: D[x]=0\n",
    "    for edge in edgeList:\n",
    "        a = edge[0]; b = edge[1]\n",
    "        if b==lastCh: D[a]=1\n",
    "    for i in range(3):\n",
    "        for edge in edgeList:\n",
    "            a = edge[0]; b = edge[1]\n",
    "            if D[b]==1: D[a]=1\n",
    "    ok = 0\n",
    "    for x in nuclList:\n",
    "        if x!=lastCh and D[x]==0: return 0\n",
    "    return 1\n",
    "\n",
    "def eulerian(s):\n",
    "    nuclCnt,dinuclCnt,List = computeCountAndLists(s)\n",
    "    #compute nucleotides appearing in s\n",
    "    nuclList = []\n",
    "    for x in [\"A\",\"C\",\"G\",\"T\",\"N\"]:\n",
    "        if x in s: nuclList.append(x)\n",
    "    #create dinucleotide shuffle L\n",
    "    firstCh = s[0]  #start with first letter of s\n",
    "    lastCh  = s[-1]\n",
    "    edgeList = []\n",
    "    for x in nuclList:\n",
    "        if x!= lastCh: edgeList.append( [x,chooseEdge(x,dinuclCnt)] )\n",
    "    ok = connectedToLast(edgeList,nuclList,lastCh)\n",
    "    return ok,edgeList,nuclList,lastCh\n",
    "\n",
    "\n",
    "def shuffleEdgeList(L):\n",
    "    n = len(L); barrier = n\n",
    "    for i in range(n-1):\n",
    "        z = int(random.random() * barrier)\n",
    "        tmp = L[z]\n",
    "        L[z]= L[barrier-1]\n",
    "        L[barrier-1] = tmp\n",
    "        barrier -= 1\n",
    "    return L\n",
    "\n",
    "def dinuclShuffle(s):\n",
    "    ok = 0\n",
    "    while not ok:\n",
    "        ok,edgeList,nuclList,lastCh = eulerian(s)\n",
    "    nuclCnt,dinuclCnt,List = computeCountAndLists(s)\n",
    "\n",
    "    #remove last edges from each vertex list, shuffle, then add back\n",
    "    #the removed edges at end of vertex lists.\n",
    "    for [x,y] in edgeList: List[x].remove(y)\n",
    "    for x in nuclList: shuffleEdgeList(List[x])\n",
    "    for [x,y] in edgeList: List[x].append(y)\n",
    "\n",
    "    #construct the eulerian path\n",
    "    L = [s[0]]; prevCh = s[0]\n",
    "    for i in range(len(s)-2):\n",
    "        ch = List[prevCh][0]\n",
    "        L.append( ch )\n",
    "        del List[prevCh][0]\n",
    "        prevCh = ch\n",
    "    L.append(s[-1])\n",
    "    #t = string.join(L,\"\")\n",
    "    t = \"\".join(L)\n",
    "    return t\n"
   ]
  },
  {
   "cell_type": "code",
   "execution_count": 4,
   "id": "44c9891c-c83c-4d9c-93ca-6e028ae98941",
   "metadata": {
    "execution": {
     "iopub.execute_input": "2024-09-25T22:29:36.379857Z",
     "iopub.status.busy": "2024-09-25T22:29:36.379691Z",
     "iopub.status.idle": "2024-09-25T22:29:36.390395Z",
     "shell.execute_reply": "2024-09-25T22:29:36.389910Z",
     "shell.execute_reply.started": "2024-09-25T22:29:36.379836Z"
    },
    "tags": []
   },
   "outputs": [],
   "source": [
    "def get_information_content(x):\n",
    "    ic = x * np.log2((x + .001) / .25)\n",
    "    if ic > 0:\n",
    "        return(ic)\n",
    "    else:\n",
    "        return(0.0)\n",
    "    \n",
    "def get_info_content(ppm):\n",
    "    w = ppm.shape[0]\n",
    "    info = np.zeros(w)\n",
    "    for i in range(w):\n",
    "        for j in range(4):\n",
    "            info[i] += ppm[i,j] * np.log2((ppm[i,j] + .001) / 0.25)\n",
    "    return(info)\n",
    "    \n",
    "def trim_ppm(ppm, min_info=0.0):\n",
    "    info = get_info_content(ppm)\n",
    "    start_index = 0\n",
    "    w = ppm.shape[0]\n",
    "    stop_index = w\n",
    "    for i in range(w):\n",
    "        if info[i] < min_info:\n",
    "            start_index += 1\n",
    "        else:\n",
    "            break\n",
    "\n",
    "    for i in range(w):\n",
    "        if info[w-i-1] < 0.25:\n",
    "            stop_index -= 1\n",
    "        else:\n",
    "            break\n",
    "\n",
    "    if np.max(info) < 0.25:\n",
    "        return(ppm, 0, w)\n",
    "    else:\n",
    "        return(ppm[start_index:stop_index,:], start_index, stop_index)\n",
    "    \n",
    "DNA_SEQ_DICT = {\n",
    "    'A' : [1, 0, 0, 0],\n",
    "    'C' : [0, 1, 0, 0],\n",
    "    'G' : [0, 0, 1, 0],\n",
    "    'T' : [0, 0, 0, 1],\n",
    "}\n",
    "\n",
    "def encode_sequence(seq, N = [0, 0, 0, 0], seq_dict = None, useN = None):\n",
    "    if seq_dict is None:\n",
    "        seq_dict = DNA_SEQ_DICT\n",
    "    if useN == 'uniform':\n",
    "        N = [(1/len(seq_dict)) for _ in seq_dict]\n",
    "    elif useN == 'zeros':\n",
    "        N = [0 for _ in seq_dict]\n",
    "    d = { **seq_dict, 'N' : N }\n",
    "    return np.array([d[nuc] for nuc in list(seq)]).astype('float32')\n",
    " \n",
    "def decode_sequence(encoded_seq, seq_dict = None):\n",
    "    if seq_dict is None:\n",
    "        seq_dict = DNA_SEQ_DICT\n",
    "    seq_list = encoded_seq.astype('int').tolist()\n",
    "    def decode_base(encoded_base):\n",
    "        for letter,onehot in seq_dict.items():\n",
    "            if np.array_equal(encoded_base, onehot):\n",
    "                return letter\n",
    "        return \"N\"\n",
    "    return \"\".join(decode_base(b) for b in encoded_seq.astype('int'))\n",
    "\n",
    "\n",
    "# In[11]:\n"
   ]
  },
  {
   "cell_type": "code",
   "execution_count": 5,
   "id": "0a959df5-508f-43e5-a057-3c80eea6c2bb",
   "metadata": {
    "execution": {
     "iopub.execute_input": "2024-09-25T22:29:44.613440Z",
     "iopub.status.busy": "2024-09-25T22:29:44.613230Z",
     "iopub.status.idle": "2024-09-25T22:29:44.620486Z",
     "shell.execute_reply": "2024-09-25T22:29:44.619939Z",
     "shell.execute_reply.started": "2024-09-25T22:29:44.613408Z"
    },
    "tags": []
   },
   "outputs": [],
   "source": [
    "# In[162]:\n",
    "\n",
    "\n",
    "def load_peaks(peaks, l=None):\n",
    "    data = pd.read_csv(peaks, header=0, sep=\"\\t\", skipfooter=1)\n",
    "    data = data.rename(columns = {\"#CHROM\" : \"chrom\", \n",
    "                                  \"START\" : \"start\", \n",
    "                                  \"END\" : \"end\", \n",
    "                                  \"fold_enrichment\" : \"signal\",\n",
    "                                  \" supporting_peakcallers\" : \"peak_callers\"})\n",
    "    data[\"n_peak_callers\"] = data.peak_callers.str.count(\",\") + 1\n",
    "    if l is not None:\n",
    "        w2 = l // 2\n",
    "        data[\"start\"] = data[\"abs_summit\"] - w2\n",
    "        data[\"end\"] = data[\"abs_summit\"] + w2\n",
    "    return(data)\n",
    "\n",
    "def merge_peaks(peaks_dfs, l=200):\n",
    "    w2 = l // 2\n",
    "    toReturn = peaks_dfs[0].copy()\n",
    "    for i in range(1, len(peaks_dfs)):\n",
    "        toReturn = bioframe.closest(toReturn, peaks_dfs[i], \n",
    "                               suffixes=('_1','_2'))\n",
    "        toReturn = toReturn[toReturn[\"distance\"] == 0]\n",
    "        toReturn[\"abs_summit_1\"] = (i * toReturn[\"abs_summit_1\"] + toReturn[\"abs_summit_2\"]) // (i+1)\n",
    "        toReturn[\"signal_1\"] = (i * toReturn[\"signal_1\"] + toReturn[\"signal_2\"]) / (i+1)\n",
    "        toReturn = toReturn.rename(columns = {\"chrom_1\" : \"chrom\", \n",
    "                                              \"start_1\" : \"start\", \n",
    "                                              \"end_1\" : \"end\", \n",
    "                                              \"signal_1\" : \"signal\",\n",
    "                                              \"abs_summit_1\" : \"abs_summit\"})\n",
    "    toReturn[\"start\"] = toReturn[\"abs_summit\"] - w2\n",
    "    toReturn[\"end\"] = toReturn[\"abs_summit\"] + w2\n",
    "    \n",
    "    return(toReturn)"
   ]
  },
  {
   "cell_type": "code",
   "execution_count": 6,
   "id": "9ee57f27-7033-4cc2-9f35-829d9e705f71",
   "metadata": {
    "execution": {
     "iopub.execute_input": "2024-09-25T22:29:46.155092Z",
     "iopub.status.busy": "2024-09-25T22:29:46.154926Z",
     "iopub.status.idle": "2024-09-25T22:29:46.159554Z",
     "shell.execute_reply": "2024-09-25T22:29:46.159034Z",
     "shell.execute_reply.started": "2024-09-25T22:29:46.155070Z"
    },
    "tags": []
   },
   "outputs": [],
   "source": [
    "def getFasta(bf, genomeFasta):\n",
    "    genome = Fasta(genomeFasta, as_raw=True, sequence_always_upper=True)\n",
    "    if \"strand\" in  bf:\n",
    "        bf.loc[:, \"seq\"] = [genome[chrom][start:end] if strand == \"+\" else get_rc(genome[chrom][start:end]) for chrom, start, end, strand in zip(bf.chrom, bf.start, bf.end, bf.strand)]\n",
    "    else:\n",
    "        bf.loc[:,\"seq\"] = [genome[chrom][start:end] for chrom, start, end in zip(bf.chrom, bf.start, bf.end)]\n",
    "    return(bf)"
   ]
  },
  {
   "cell_type": "code",
   "execution_count": 7,
   "id": "df02e5c1-cfdd-4b5d-a102-77c11942b0ed",
   "metadata": {
    "execution": {
     "iopub.execute_input": "2024-09-25T22:29:46.717450Z",
     "iopub.status.busy": "2024-09-25T22:29:46.717283Z",
     "iopub.status.idle": "2024-09-25T22:29:46.722243Z",
     "shell.execute_reply": "2024-09-25T22:29:46.721728Z",
     "shell.execute_reply.started": "2024-09-25T22:29:46.717413Z"
    },
    "tags": []
   },
   "outputs": [],
   "source": [
    "def get_ZMotif_motifs(motifs_file):\n",
    "    df = pd.read_csv(motifs_file, sep=\"\\t\", header=0)\n",
    "    \n",
    "    kernels = sorted(df.kernel.unique().tolist())\n",
    "    AUCs = dict(zip(df.kernel, df.auc))\n",
    "    kernel = max(AUCs, key=AUCs.get)\n",
    "    PPMs = []\n",
    "    tmp_df = df[df[\"kernel\"] == kernel]\n",
    "    ppm = logomaker.alignment_to_matrix(tmp_df.seq, to_type=\"probability\")\n",
    "    ppm = ppm[[\"A\", \"C\", \"G\", \"T\"]]\n",
    "    w = ppm.shape[0]\n",
    "    for i in range(w-30+1):\n",
    "        PPMs.append([motifs_file, ppm.iloc[i:i+30,:]])\n",
    "    return(PPMs)"
   ]
  },
  {
   "cell_type": "code",
   "execution_count": 8,
   "id": "f3752af6-1f48-4db2-b817-e032e8228144",
   "metadata": {
    "execution": {
     "iopub.execute_input": "2024-09-25T22:29:47.814909Z",
     "iopub.status.busy": "2024-09-25T22:29:47.814744Z",
     "iopub.status.idle": "2024-09-25T22:29:47.819177Z",
     "shell.execute_reply": "2024-09-25T22:29:47.818695Z",
     "shell.execute_reply.started": "2024-09-25T22:29:47.814888Z"
    },
    "tags": []
   },
   "outputs": [],
   "source": [
    "def run_imap_multiprocessing(func, argument_list, num_processes):\n",
    "\n",
    "    pool = Pool(processes=num_processes)\n",
    "\n",
    "    result_list_tqdm = []\n",
    "    for result in tqdm.tqdm(pool.imap(func=func, iterable=argument_list), total=len(argument_list)):\n",
    "        result_list_tqdm.append(result)\n",
    "\n",
    "    return result_list_tqdm\n",
    "\n",
    "def ppm_to_pwm(ppm):\n",
    "    pwm = ppm + 1e-5\n",
    "    pwm = pwm / 0.25\n",
    "    pwm = np.log2(pwm)\n",
    "    return(pwm)\n",
    "\n",
    "def flatten(xss):\n",
    "    return [x for xs in xss for x in xs]"
   ]
  },
  {
   "cell_type": "code",
   "execution_count": 9,
   "id": "6a9257da-1e0e-427f-8059-201a31ae2c17",
   "metadata": {
    "execution": {
     "iopub.execute_input": "2024-09-25T22:29:54.123910Z",
     "iopub.status.busy": "2024-09-25T22:29:54.123695Z",
     "iopub.status.idle": "2024-09-25T22:29:54.127228Z",
     "shell.execute_reply": "2024-09-25T22:29:54.126725Z",
     "shell.execute_reply.started": "2024-09-25T22:29:54.123886Z"
    },
    "tags": []
   },
   "outputs": [],
   "source": [
    "def get_STREME_motifs(stremePkl):\n",
    "    with open(stremePkl, \"rb\") as f:\n",
    "        PPMs = pickle.load(f)\n",
    "    return([[stremePkl + \"-\" + _, PPMs[_]] for _ in PPMs])"
   ]
  },
  {
   "cell_type": "code",
   "execution_count": 10,
   "id": "de881497-e0b3-47a2-911f-3c37d30f36ae",
   "metadata": {
    "execution": {
     "iopub.execute_input": "2024-09-25T22:29:55.187959Z",
     "iopub.status.busy": "2024-09-25T22:29:55.187793Z",
     "iopub.status.idle": "2024-09-25T22:29:55.195177Z",
     "shell.execute_reply": "2024-09-25T22:29:55.194687Z",
     "shell.execute_reply.started": "2024-09-25T22:29:55.187937Z"
    },
    "tags": []
   },
   "outputs": [],
   "source": [
    "def get_data(TF, assay, peaks=\"all\", cycle = \"last\", l = 300):\n",
    "    genomeFasta = \"/home/gregory.andrews-umw/data/genome/hg38.fa\"\n",
    "    if assay == \"CHS\":\n",
    "        dataFiles = glob.glob(\"/pi/zhiping.weng-umw/home/gregory.andrews-umw/IBIS/data/\" + assay + \"/\" + TF + \"/*\" )\n",
    "        print(dataFiles)\n",
    "        print(l)\n",
    "        CHS_data = [load_peaks(_, l) for _ in dataFiles]\n",
    "        if peaks == \"shared\":\n",
    "            print(\"Merging peaks\")\n",
    "            CHS_data = merge_peaks(CHS_data, l=l)\n",
    "        else:\n",
    "            CHS_data = pd.concat(CHS_data)\n",
    "\n",
    "        data = CHS_data[[\"chrom\", \"start\", \"end\", \"abs_summit\", \"signal\"]]\n",
    "    else:\n",
    "        GHTS = glob.glob(\"/pi/zhiping.weng-umw/home/gregory.andrews-umw/IBIS/data/\" + assay + \"/\" + TF + \"/*\" )\n",
    "        cycles = sorted([os.path.basename(_).split(\".\")[-2] for _ in GHTS])\n",
    "        print(cycles)\n",
    "        if cycle == \"last\":\n",
    "            max_cycle = cycles[-1]\n",
    "            print(\"Last cycle: {}\".format(max_cycle))\n",
    "            GHTS = [_ for _ in GHTS if \".\" + max_cycle + \".\" in _]\n",
    "        print(l)\n",
    "        GHTS_data = [load_peaks(_, l) for _ in GHTS]\n",
    "        \n",
    "        GHTS_data = pd.concat(GHTS_data)\n",
    "        \n",
    "        data = GHTS_data[[\"chrom\", \"start\", \"end\", \"abs_summit\", \"signal\"]]\n",
    "        print(data.shape)\n",
    "    data = data.sort_values(['chrom', 'start'], ascending=[True, True]).reset_index(drop=True)\n",
    "    data = getFasta(data, genomeFasta)\n",
    "    return(data)"
   ]
  },
  {
   "cell_type": "code",
   "execution_count": 11,
   "id": "b2f37be2-9738-4a42-a247-cf107b69189e",
   "metadata": {
    "execution": {
     "iopub.execute_input": "2024-09-25T22:29:55.634700Z",
     "iopub.status.busy": "2024-09-25T22:29:55.634522Z",
     "iopub.status.idle": "2024-09-25T22:29:55.637307Z",
     "shell.execute_reply": "2024-09-25T22:29:55.636831Z",
     "shell.execute_reply.started": "2024-09-25T22:29:55.634664Z"
    },
    "tags": []
   },
   "outputs": [],
   "source": [
    "def get_auroc(x):\n",
    "    yTest, yPred = x\n",
    "    return(roc_auc_score(yTest, yPred))"
   ]
  },
  {
   "cell_type": "code",
   "execution_count": 18,
   "id": "0e0da9f9-1456-4fd0-8214-7be50fb61408",
   "metadata": {
    "execution": {
     "iopub.execute_input": "2024-09-25T22:30:52.432147Z",
     "iopub.status.busy": "2024-09-25T22:30:52.431931Z",
     "iopub.status.idle": "2024-09-25T22:30:52.436713Z",
     "shell.execute_reply": "2024-09-25T22:30:52.436181Z",
     "shell.execute_reply.started": "2024-09-25T22:30:52.432119Z"
    },
    "tags": []
   },
   "outputs": [],
   "source": [
    "def get_PPMs(TF, train_assay):\n",
    "    motifs_files = glob.glob(\"../Results/G2A/{}-{}*/motifs.txt.gz\".format(TF, train_assay))\n",
    "    ZMotif_PPMs = flatten(run_imap_multiprocessing(get_ZMotif_motifs, motifs_files, 12))\n",
    "    STREME_files = glob.glob(\"../Results/G2A/{}-{}*/streme.pkl\".format(TF, train_assay))\n",
    "    print(STREME_files)\n",
    "    STREME_PPMs = run_imap_multiprocessing(get_STREME_motifs, STREME_files, 12)\n",
    "    STREME_PPMs = flatten(STREME_PPMs)\n",
    "    PPMs = ZMotif_PPMs + STREME_PPMs\n",
    "    return(PPMs)"
   ]
  },
  {
   "cell_type": "code",
   "execution_count": 29,
   "id": "ab3a3ea9-38d9-4f52-b798-6e44edfc7c56",
   "metadata": {
    "execution": {
     "iopub.execute_input": "2024-09-25T22:40:09.561771Z",
     "iopub.status.busy": "2024-09-25T22:40:09.561489Z",
     "iopub.status.idle": "2024-09-25T22:40:09.573093Z",
     "shell.execute_reply": "2024-09-25T22:40:09.572551Z",
     "shell.execute_reply.started": "2024-09-25T22:40:09.561740Z"
    },
    "tags": []
   },
   "outputs": [],
   "source": [
    "def score_motifs(PPMs, TF, test_assay):\n",
    "    genomeFasta = \"/home/gregory.andrews-umw/data/genome/hg38.fa\"\n",
    "    PWMs = [ppm_to_pwm(_[1]) for _ in PPMs]\n",
    "    weights = np.zeros([len(PWMs), 30, 4])\n",
    "    for i, pwm in enumerate(PWMs):\n",
    "        w = pwm.shape[0]\n",
    "        if w > 0:\n",
    "            start = (30 - w) // 2\n",
    "            stop = start + pwm.shape[0]\n",
    "            weights[i,start:stop,:] = pwm\n",
    "    weights = np.moveaxis(weights,0,-1)\n",
    "    model = construct_score_model(weights)\n",
    "    aug_by = 0\n",
    "    if test_assay == \"GHTS\":\n",
    "        l = 100\n",
    "    else:\n",
    "        l = 300\n",
    "        \n",
    "    nNegs = 1\n",
    "    data = get_data(TF, test_assay,\n",
    "                    peaks=\"all\", \n",
    "                    cycle=\"last\", l=l)\n",
    "    min_n = 20000\n",
    "    data = data.sample(n=min_n, replace=True, weights=\"signal\")\n",
    "    if aug_by > 0:\n",
    "        aug = np.random.randint(-aug_by, aug_by, size=data.shape[0])\n",
    "        data.loc[:,\"start\"] = data[\"start\"] + aug\n",
    "        data.loc[:,\"end\"] = data[\"end\"] + aug\n",
    "    data = data.sort_values(['chrom', 'start'], ascending=[True, True]).reset_index(drop=True)\n",
    "    data = getFasta(data, genomeFasta)\n",
    "    \n",
    "    Xpos = np.array([encode_sequence(seq) for seq in data.seq])\n",
    "    negSeqs = []\n",
    "    for seq in data.seq:\n",
    "        for i in range(nNegs):\n",
    "            negSeqs.append(dinuclShuffle(seq))\n",
    "    \n",
    "    Xneg = np.array([encode_sequence(seq) for seq in negSeqs])\n",
    "    yTest = np.array([1 for _ in range(Xpos.shape[0])] + [0 for _ in range(Xneg.shape[0])])\n",
    "    X = np.vstack([Xpos, Xneg])\n",
    "    scores = model.predict(X, verbose=1)\n",
    "    aucs = run_imap_multiprocessing(get_auroc, [[yTest, scores[:,i]] for i in range(len(PWMs))], 12)\n",
    "    return(aucs, yTest, scores)"
   ]
  },
  {
   "cell_type": "code",
   "execution_count": 20,
   "id": "c8618399-60b7-403d-b3ce-9b780cc64a6a",
   "metadata": {
    "execution": {
     "iopub.execute_input": "2024-09-25T22:31:04.683252Z",
     "iopub.status.busy": "2024-09-25T22:31:04.683094Z",
     "iopub.status.idle": "2024-09-25T22:31:07.258827Z",
     "shell.execute_reply": "2024-09-25T22:31:07.258150Z",
     "shell.execute_reply.started": "2024-09-25T22:31:04.683230Z"
    },
    "tags": []
   },
   "outputs": [
    {
     "name": "stderr",
     "output_type": "stream",
     "text": [
      "100%|██████████| 80/80 [00:01<00:00, 43.42it/s]\n"
     ]
    },
    {
     "name": "stdout",
     "output_type": "stream",
     "text": [
      "[]\n"
     ]
    },
    {
     "name": "stderr",
     "output_type": "stream",
     "text": [
      "0it [00:00, ?it/s]\n"
     ]
    }
   ],
   "source": [
    "TF = \"GABPA\"\n",
    "train_assay = \"CHS\"\n",
    "test_assay = \"GHTS\"\n",
    "PPMs = get_PPMs(TF, train_assay)"
   ]
  },
  {
   "cell_type": "code",
   "execution_count": 35,
   "id": "8150b565-89d1-4824-8514-ea63f7d05038",
   "metadata": {
    "execution": {
     "iopub.execute_input": "2024-09-25T22:46:25.543717Z",
     "iopub.status.busy": "2024-09-25T22:46:25.543498Z",
     "iopub.status.idle": "2024-09-25T22:46:41.698133Z",
     "shell.execute_reply": "2024-09-25T22:46:41.697176Z",
     "shell.execute_reply.started": "2024-09-25T22:46:25.543690Z"
    },
    "tags": []
   },
   "outputs": [
    {
     "name": "stdout",
     "output_type": "stream",
     "text": [
      "Model: \"model_3\"\n",
      "__________________________________________________________________________________________________\n",
      "Layer (type)                    Output Shape         Param #     Connected to                     \n",
      "==================================================================================================\n",
      "input_4 (InputLayer)            [(None, None, 4)]    0                                            \n",
      "__________________________________________________________________________________________________\n",
      "lambda_3 (Lambda)               (None, None, 4)      0           input_4[0][0]                    \n",
      "__________________________________________________________________________________________________\n",
      "score_conv (Conv1D)             (None, None, 880)    105600      input_4[0][0]                    \n",
      "                                                                 lambda_3[0][0]                   \n",
      "__________________________________________________________________________________________________\n",
      "maximum_3 (Maximum)             (None, None, 880)    0           score_conv[0][0]                 \n",
      "                                                                 score_conv[1][0]                 \n",
      "__________________________________________________________________________________________________\n",
      "global_max_pooling1d_3 (GlobalM (None, 880)          0           maximum_3[0][0]                  \n",
      "==================================================================================================\n",
      "Total params: 105,600\n",
      "Trainable params: 0\n",
      "Non-trainable params: 105,600\n",
      "__________________________________________________________________________________________________\n",
      "None\n",
      "['C2']\n",
      "Last cycle: C2\n",
      "100\n",
      "(4385, 5)\n"
     ]
    },
    {
     "name": "stderr",
     "output_type": "stream",
     "text": [
      "/usr/local/lib/python3.6/site-packages/ipykernel_launcher.py:5: ParserWarning: Falling back to the 'python' engine because the 'c' engine does not support skipfooter; you can avoid this warning by specifying engine='python'.\n",
      "  \"\"\"\n"
     ]
    },
    {
     "name": "stdout",
     "output_type": "stream",
     "text": [
      "40000/40000 [==============================] - 3s 70us/sample\n"
     ]
    },
    {
     "name": "stderr",
     "output_type": "stream",
     "text": [
      "100%|██████████| 880/880 [00:01<00:00, 477.76it/s]\n"
     ]
    }
   ],
   "source": [
    "AUCs, yTest, scores = score_motifs(PPMs, TF, test_assay)"
   ]
  },
  {
   "cell_type": "code",
   "execution_count": 38,
   "id": "db35de10-9300-46a9-afc9-89258fdcb72d",
   "metadata": {
    "execution": {
     "iopub.execute_input": "2024-09-25T22:47:06.304490Z",
     "iopub.status.busy": "2024-09-25T22:47:06.304288Z",
     "iopub.status.idle": "2024-09-25T22:47:06.308467Z",
     "shell.execute_reply": "2024-09-25T22:47:06.307964Z",
     "shell.execute_reply.started": "2024-09-25T22:47:06.304465Z"
    },
    "tags": []
   },
   "outputs": [
    {
     "data": {
      "text/plain": [
       "249"
      ]
     },
     "execution_count": 38,
     "metadata": {},
     "output_type": "execute_result"
    }
   ],
   "source": [
    "np.argmax(AUCs)"
   ]
  },
  {
   "cell_type": "code",
   "execution_count": 77,
   "id": "6a8aecaf-4e4b-44ca-84c1-6ceb28f85460",
   "metadata": {
    "execution": {
     "iopub.execute_input": "2024-09-25T23:42:48.615321Z",
     "iopub.status.busy": "2024-09-25T23:42:48.615119Z",
     "iopub.status.idle": "2024-09-25T23:42:55.906052Z",
     "shell.execute_reply": "2024-09-25T23:42:55.905523Z",
     "shell.execute_reply.started": "2024-09-25T23:42:48.615296Z"
    },
    "tags": []
   },
   "outputs": [
    {
     "data": {
      "text/plain": [
       "<matplotlib.legend.Legend at 0x14ce6baed5f8>"
      ]
     },
     "execution_count": 77,
     "metadata": {},
     "output_type": "execute_result"
    },
    {
     "data": {
      "image/png": "[encoded data removed]",
      "text/plain": [
       "<Figure size 864x576 with 13 Axes>"
      ]
     },
     "metadata": {
      "needs_background": "light"
     },
     "output_type": "display_data"
    }
   ],
   "source": [
    "fig = plt.figure(figsize=(12,8), tight_layout=True)\n",
    "gs = fig.add_gridspec(12, 12)\n",
    "ax1 = fig.add_subplot(gs[:, :8])\n",
    "logo_axes = [fig.add_subplot(gs[i, 8:]) for i in range(12)]\n",
    "for plot_i, i in enumerate(np.argsort(aucs)[::-1][:12]):\n",
    "    fpr, tpr, r = roc_curve(yTest, scores[:,i])\n",
    "    auROC = roc_auc_score(yTest, scores[:,i])\n",
    "    ax1.plot(fpr, tpr, label=\"{0} (auROC = {1:.4f}\".format(plot_i+1, auROC))\n",
    "    ax1.set_xlabel(\"FPR\")\n",
    "    ax1.set_ylabel(\"TPR\")\n",
    "    ppm = PPMs[i][1]\n",
    "    ppm = pd.DataFrame(ppm, columns=[\"A\", \"C\", \"G\", \"T\"]).reset_index(drop=True)\n",
    "    logomaker.Logo(ppm.applymap(get_information_content), ax=logo_axes[plot_i])\n",
    "    logo_axes[plot_i].axis(\"off\")\n",
    "    logo_axes[plot_i].set_ylim([0,2])\n",
    "    logo_axes[plot_i].set_title(plot_i+1)\n",
    "ax1.legend(loc='lower right', ncol=2)\n",
    "# ax.set_ylim([0,2])"
   ]
  },
  {
   "cell_type": "code",
   "execution_count": null,
   "id": "b80524d5-5aa8-4553-b141-54de2cb2b9ba",
   "metadata": {},
   "outputs": [],
   "source": []
  }
 ],
 "metadata": {
  "kernelspec": {
   "display_name": "Python 3",
   "language": "python",
   "name": "python3"
  },
  "language_info": {
   "codemirror_mode": {
    "name": "ipython",
    "version": 3
   },
   "file_extension": ".py",
   "mimetype": "text/x-python",
   "name": "python",
   "nbconvert_exporter": "python",
   "pygments_lexer": "ipython3",
   "version": "3.6.15"
  }
 },
 "nbformat": 4,
 "nbformat_minor": 5
}
